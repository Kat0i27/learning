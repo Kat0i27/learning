{
 "cells": [
  {
   "cell_type": "markdown",
   "metadata": {},
   "source": [
    "### 问题描述\n",
    "你要给纯文本文件添加格式。假设你要将一个文件用作网页，而给你文件的人嫌麻烦，没有以HTML格式编写它。你不想手工添加需要的所有标签，想编写一个程序来自动完成这项工作。\n",
    "\n",
    "### 功能分析\n",
    "1. 输入无需包含人工编码或标签。\n",
    "2. 程序需要能够处理不同的文本块（如标题、段落和列表项）以及内嵌文本（如突出的文本和URL）。\n",
    "3. 虽然这个实现添加的是HTML标签，但应该很容易对其进行扩展，以支持其他标记语言。\n",
    "\n",
    "### 工具分析\n",
    "- 肯定需要读写文件（参见第11章），至少要从标准输入（sys.stdin）读取以及使用print进行输出。\n",
    "- 可能需要迭代输入行（参见第11章）\n",
    "- 需要使用一些字符串方法（参见第3章）。\n",
    "- 可能用到一两个生成器（参见第9章）。\n",
    "- 可能需要模块re（参见第10章）。\n",
    " 如果你不熟悉上述任何概念，请花点时间复习一下。"
   ]
  },
  {
   "cell_type": "code",
   "execution_count": 4,
   "metadata": {},
   "outputs": [
    {
     "data": {
      "text/plain": [
       "\"\\n\\nWelcome to World Wide Spam, Inc.\\n\\nThese are the corporate web pages of *World Wide Spam*, Inc. We hope\\nyou find your stay enjoyable, and that you will sample many of our\\nproducts.\\n\\nA short history of the company\\n\\nWorld Wide Spam was started in the summer of 2000. The business\\nconcept was to ride the dot-com wave and to make money both through\\nbulk email and by selling canned meat online.\\n\\nAfter receiving several complaints from customers who weren't\\nsatisfied by their bulk email, World Wide Spam altered their profile,\\nand focused 100% on canned goods. Today, they rank as the world's 13,892nd online supplier of SPAM.\\n\\nDestinations\\n\\nFrom this page you may visit several of our interesting web pages:\\n\\n- What is SPAM? (http://wwspam.fu/whatisspam)\\n\\n- How do they make it? (http://wwspam.fu/howtomakeit)\\n\\n- Why should I eat it? (http://wwspam.fu/whyeatit)\\n\\nHow to get in touch with us\\n\\nYou can get in touch with us in *many* ways: By phone (555-1234), by\\nemail (wwspam@wwspam.fu) or by visiting our customer feedback page\\n(http://wwspam.fu/feedback).\\n\""
      ]
     },
     "execution_count": 4,
     "metadata": {},
     "output_type": "execute_result"
    }
   ],
   "source": [
    "#测试文档 test_input.txt\n",
    "'''\n",
    "\n",
    "Welcome to World Wide Spam, Inc.\n",
    "\n",
    "These are the corporate web pages of *World Wide Spam*, Inc. We hope\n",
    "you find your stay enjoyable, and that you will sample many of our\n",
    "products.\n",
    "\n",
    "A short history of the company\n",
    "\n",
    "World Wide Spam was started in the summer of 2000. The business\n",
    "concept was to ride the dot-com wave and to make money both through\n",
    "bulk email and by selling canned meat online.\n",
    "\n",
    "After receiving several complaints from customers who weren't\n",
    "satisfied by their bulk email, World Wide Spam altered their profile,\n",
    "and focused 100% on canned goods. Today, they rank as the world's 13,892nd online supplier of SPAM.\n",
    "\n",
    "Destinations\n",
    "\n",
    "From this page you may visit several of our interesting web pages:\n",
    "\n",
    "- What is SPAM? (http://wwspam.fu/whatisspam)\n",
    "\n",
    "- How do they make it? (http://wwspam.fu/howtomakeit)\n",
    "\n",
    "- Why should I eat it? (http://wwspam.fu/whyeatit)\n",
    "\n",
    "How to get in touch with us\n",
    "\n",
    "You can get in touch with us in *many* ways: By phone (555-1234), by\n",
    "email (wwspam@wwspam.fu) or by visiting our customer feedback page\n",
    "(http://wwspam.fu/feedback).\n",
    "'''"
   ]
  },
  {
   "cell_type": "code",
   "execution_count": null,
   "metadata": {},
   "outputs": [],
   "source": [
    "#初次实现-找出文本块\n",
    "'''\n",
    "一种简单的方法是，收集空行前的所有行并将它们返回，然后重复这样的操作。不需要收集空行，因此不需要返回空文本块（即多个空行）。另外，必须确保文件的最\n",
    "后一行为空行，否则无法确定最后一个文本块到哪里结束。（当然，有其他确定这一点的方法。）\n",
    "'''\n",
    "\n"
   ]
  }
 ],
 "metadata": {
  "kernelspec": {
   "display_name": "Python 3",
   "language": "python",
   "name": "python3"
  },
  "language_info": {
   "codemirror_mode": {
    "name": "ipython",
    "version": 3
   },
   "file_extension": ".py",
   "mimetype": "text/x-python",
   "name": "python",
   "nbconvert_exporter": "python",
   "pygments_lexer": "ipython3",
   "version": "3.7.0"
  }
 },
 "nbformat": 4,
 "nbformat_minor": 4
}
