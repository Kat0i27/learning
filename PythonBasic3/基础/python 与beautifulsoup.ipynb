{
 "cells": [
  {
   "cell_type": "code",
   "execution_count": 3,
   "metadata": {},
   "outputs": [
    {
     "name": "stdout",
     "output_type": "stream",
     "text": [
      "CAD Infrastructure DevOps Engineer (/jobs/4930/)\n",
      "Experienced Python developer - full stack with Type/JavaScript (/jobs/4937/)\n",
      "Full Stack Python Developer (/jobs/4942/)\n",
      "Product Engineer (/jobs/4935/)\n",
      "Python (Machine Learning) (/jobs/4945/)\n",
      "Python / Django Web Developer (f/m/d) (/jobs/4929/)\n",
      "Python developer (/jobs/4944/)\n",
      "Python script for networking (/jobs/4926/)\n",
      "Python Software Developer for X-ray Detector Calibration (f/m/d) (/jobs/4928/)\n",
      "Python/Django Developer (/jobs/4931/)\n",
      "Senior Backend Developer Python/AWS/Microservices (/jobs/4920/)\n",
      "Senior Backend Developer/ Data Scientist (Remote) (/jobs/4933/)\n",
      "Senior Data Scientist (Remote) (/jobs/4932/)\n",
      "Senior Full Stack Developer (/jobs/4924/)\n",
      "Senior Python Developer (/jobs/4922/)\n",
      "Senior Software Engineer (/jobs/4940/)\n",
      "Senior Software Engineer, Backend (/jobs/4936/)\n",
      "Senior Software Engineer, Fullstack (/jobs/4946/)\n",
      "Senior Software Engineer, Python Platform Team (/jobs/4927/)\n",
      "Senior Software Quality Assurance Automation Engineer (/jobs/4925/)\n",
      "Software Engineer - Python (/jobs/4943/)\n",
      "Software Engineer - Python Developer (/jobs/4941/)\n",
      "Software Engineer, Backend (Remote) (/jobs/4939/)\n",
      "Software Engineering Lead - Fullstack (/jobs/4923/)\n",
      "Technology Manager (/jobs/4938/)\n"
     ]
    }
   ],
   "source": [
    "from urllib.request import urlopen\n",
    "from bs4 import BeautifulSoup\n",
    "text = urlopen('http://python.org/jobs').read()\n",
    "soup = BeautifulSoup(text, 'html.parser')\n",
    "jobs = set()\n",
    "for job in soup.body.section('h2'):\n",
    "    jobs.add('{} ({})'.format(job.a.string, job.a['href']))\n",
    "print('\\n'.join(sorted(jobs, key=str.lower)))"
   ]
  },
  {
   "cell_type": "code",
   "execution_count": 28,
   "metadata": {},
   "outputs": [
    {
     "name": "stdout",
     "output_type": "stream",
     "text": [
      "<title>The Dormouse's story</title>\n",
      "<class 'bs4.element.Tag'>\n",
      "['\\n',\n",
      " <p class=\"newClass\" name=\"dromouse\"><b>The Dormouse's story</b></p>,\n",
      " '\\n',\n",
      " <p class=\"story\">Once upon a time there were three little sisters; and their names were\n",
      "<a class=\"sister\" href=\"http://example.com/elsie\" id=\"link1\"><!-- Elsie --></a>,\n",
      "<a class=\"sister\" href=\"http://example.com/lacie\" id=\"link2\">Lacie</a> and\n",
      "<a class=\"sister\" href=\"http://example.com/tillie\" id=\"link3\">Tillie</a>;\n",
      "and they lived at the bottom of a well.</p>,\n",
      " '\\n',\n",
      " <p class=\"story\">...</p>,\n",
      " '\\n']\n"
     ]
    }
   ],
   "source": [
    "from bs4 import BeautifulSoup\n",
    "from pprint import pprint\n",
    "#beautifulsoup\n",
    "html = \"\"\"\n",
    "<html><head><title>The Dormouse's story</title></head>\n",
    "<body>\n",
    "<p class=\"title\" name=\"dromouse\"><b>The Dormouse's story</b></p>\n",
    "<p class=\"story\">Once upon a time there were three little sisters; and their names were\n",
    "<a href=\"http://example.com/elsie\" class=\"sister\" id=\"link1\"><!-- Elsie --></a>,\n",
    "<a href=\"http://example.com/lacie\" class=\"sister\" id=\"link2\">Lacie</a> and\n",
    "<a href=\"http://example.com/tillie\" class=\"sister\" id=\"link3\">Tillie</a>;\n",
    "and they lived at the bottom of a well.</p>\n",
    "<p class=\"story\">...</p>\n",
    "\"\"\"\n",
    "soup = BeautifulSoup(html)\n",
    "# soup = BeautifulSoup(open('index.html'))\n",
    "# print(soup.prettify())#来打印一下 soup 对象的内容，格式化输出\n",
    "\n",
    "#Tag部分\n",
    "print(soup.title)\n",
    "print(type(soup.a))\n",
    "#Tag属性\n",
    "soup.body.name\n",
    "\n",
    "soup.p.attrs#p标签的所有属性\n",
    "soup.p['class']='newClass'\n",
    "\n",
    "# NavigableString\n",
    "#获取标签内内容\n",
    "soup.p.string\n",
    "\n",
    "\n",
    "# BeautifulSoup\n",
    "# Comment\n"
   ]
  },
  {
   "cell_type": "code",
   "execution_count": 40,
   "metadata": {},
   "outputs": [
    {
     "ename": "SyntaxError",
     "evalue": "invalid syntax (<ipython-input-40-832354af0b0a>, line 4)",
     "output_type": "error",
     "traceback": [
      "\u001b[1;36m  File \u001b[1;32m\"<ipython-input-40-832354af0b0a>\"\u001b[1;36m, line \u001b[1;32m4\u001b[0m\n\u001b[1;33m    ch for ch in soup.strings if ch is not '\\n'\u001b[0m\n\u001b[1;37m         ^\u001b[0m\n\u001b[1;31mSyntaxError\u001b[0m\u001b[1;31m:\u001b[0m invalid syntax\n"
     ]
    }
   ],
   "source": [
    "#文档树遍历\n",
    "soup.head.contents # .content 属性可以将 tag 的子节点以列表的方式输出\n",
    "pprint(list(soup.body.children))#.children 它返回的不是一个 list，不过我们可以通过遍历获取所有子节点。 我们打印输出 .children 看一下，可以发现它是一个 list 生成器对象\n",
    "ch for ch in soup.strings if ch is not '\\n'"
   ]
  },
  {
   "cell_type": "code",
   "execution_count": null,
   "metadata": {},
   "outputs": [],
   "source": []
  }
 ],
 "metadata": {
  "kernelspec": {
   "display_name": "Python 3",
   "language": "python",
   "name": "python3"
  },
  "language_info": {
   "codemirror_mode": {
    "name": "ipython",
    "version": 3
   },
   "file_extension": ".py",
   "mimetype": "text/x-python",
   "name": "python",
   "nbconvert_exporter": "python",
   "pygments_lexer": "ipython3",
   "version": "3.7.0"
  }
 },
 "nbformat": 4,
 "nbformat_minor": 4
}
