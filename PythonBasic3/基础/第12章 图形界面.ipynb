{
 "cells": [
  {
   "cell_type": "code",
   "execution_count": 7,
   "metadata": {},
   "outputs": [
    {
     "name": "stdout",
     "output_type": "stream",
     "text": [
      "you can't clicke me!\n",
      "I was clicked!\n"
     ]
    }
   ],
   "source": [
    "from tkinter import *\n",
    "# top=Tk()#实例化一个TK对象,作为主窗口控件,可省\n",
    "def clicked():\n",
    "    print('I was clicked!')\n",
    "def not_click():\n",
    "    print('you can\\'t clicke me!')\n",
    "btn=Button()#实例化按钮类空间\n",
    "\n",
    "btn.config(text='Don\\'t Click me!',command=not_click)\n",
    "# btn['text']='Click me!'\n",
    "# btn['command']=clicked#给按钮添加行为\n",
    "btn.pack()#布局管理器\n",
    "Button(text='Click me!',command=clicked).pack()\n",
    "mainloop()"
   ]
  },
  {
   "cell_type": "code",
   "execution_count": 31,
   "metadata": {},
   "outputs": [],
   "source": [
    "#布局\n",
    "'''对控件调用方法pack时，将把控件放在其父控件（主控件）中。\n",
    "要指定主控件，可使用构造函数的第一个可选参数；\n",
    "如果没有指定，将把顶级主窗口用作主控件，'''\n",
    "Label(text='in the first window').pack()#文本标签\n",
    "second=Toplevel()#除主窗口外的另一顶级窗口\n",
    "Label(second,text='in the second window').pack()\n",
    "for i in range(10):\n",
    "    Button(second,text=i).pack(side=BOTTOM,fill=Y,expand=True)\n",
    "mainloop()"
   ]
  },
  {
   "cell_type": "code",
   "execution_count": 33,
   "metadata": {},
   "outputs": [
    {
     "name": "stdout",
     "output_type": "stream",
     "text": [
      "Help on function pack_configure in module tkinter:\n",
      "\n",
      "pack_configure(self, cnf={}, **kw)\n",
      "    Pack a widget in the parent widget. Use as options:\n",
      "    after=widget - pack it after you have packed widget\n",
      "    anchor=NSEW (or subset) - position widget according to\n",
      "                              given direction\n",
      "    before=widget - pack it before you will pack widget\n",
      "    expand=bool - expand widget if parent size grows\n",
      "    fill=NONE or X or Y or BOTH - fill widget if widget grows\n",
      "    in=master - use master to contain this widget\n",
      "    in_=master - see 'in' option description\n",
      "    ipadx=amount - add internal padding in x direction\n",
      "    ipady=amount - add internal padding in y direction\n",
      "    padx=amount - add padding in x direction\n",
      "    pady=amount - add padding in y direction\n",
      "    side=TOP or BOTTOM or LEFT or RIGHT -  where to add this widget.\n",
      "\n"
     ]
    },
    {
     "data": {
      "text/plain": [
       "\"\\nHelp on function pack_configure in module tkinter:\\n\\npack_configure(self, cnf={}, **kw)\\n    Pack a widget in the parent widget. Use as options:\\n    after=widget - pack it after you have packed widget\\n    anchor=NSEW (or subset) - position widget according to\\n                              given direction\\n    before=widget - pack it before you will pack widget\\n    expand=bool - expand widget if parent size grows\\n    fill=NONE or X or Y or BOTH - fill widget if widget grows\\n    in=master - use master to contain this widget\\n    in_=master - see 'in' option description\\n    ipadx=amount - add internal padding in x direction\\n    ipady=amount - add internal padding in y direction\\n    padx=amount - add padding in x direction\\n    pady=amount - add padding in y direction\\n    side=TOP or BOTTOM or LEFT or RIGHT -  where to add this widget.\\n\\n\""
      ]
     },
     "execution_count": 33,
     "metadata": {},
     "output_type": "execute_result"
    }
   ],
   "source": [
    "help(Pack.config)\n",
    "'''\n",
    "Help on function pack_configure in module tkinter:\n",
    "\n",
    "pack_configure(self, cnf={}, **kw)\n",
    "    Pack a widget in the parent widget. Use as options:\n",
    "    after=widget - pack it after you have packed widget\n",
    "    anchor=NSEW (or subset) - position widget according to\n",
    "                              given direction\n",
    "    before=widget - pack it before you will pack widget\n",
    "    expand=bool - expand widget if parent size grows\n",
    "    fill=NONE or X or Y or BOTH - fill widget if widget grows\n",
    "    in=master - use master to contain this widget\n",
    "    in_=master - see 'in' option description\n",
    "    ipadx=amount - add internal padding in x direction\n",
    "    ipady=amount - add internal padding in y direction\n",
    "    padx=amount - add padding in x direction\n",
    "    pady=amount - add padding in y direction\n",
    "    side=TOP or BOTTOM or LEFT or RIGHT -  where to add this widget.\n",
    "\n",
    "'''"
   ]
  },
  {
   "cell_type": "code",
   "execution_count": 46,
   "metadata": {},
   "outputs": [
    {
     "name": "stdout",
     "output_type": "stream",
     "text": [
      "53 65\n",
      "144 69\n",
      "128 143\n",
      "72 143\n"
     ]
    }
   ],
   "source": [
    "#事件处理\n",
    "from tkinter import *\n",
    "top = Tk()\n",
    "def callback(event):\n",
    "    print(event.x, event.y)\n",
    "top.bind('<Button-1>', callback)#鼠标左键单击实践-关联到函数callback\n",
    "top.mainloop()\n",
    "# '4322424456callback'"
   ]
  },
  {
   "cell_type": "code",
   "execution_count": 45,
   "metadata": {},
   "outputs": [],
   "source": [
    "from tkinter import *\n",
    "from tkinter.scrolledtext import ScrolledText\n",
    "#创建可滚动的多行文本区域，可结合使用控件Text和Scrollbar，但模块tkinter.scrolledtext已经提\n",
    "'''\n",
    "对于ScrolledText对象，我们将使用其方法delete和insert来删除文本。\n",
    "调用方法delete和insert时，需要使用合适的参数来指定文本的位置；\n",
    "在这里，我们将使用'1.0'来指定第1行的第0个字符（即第一个字符前面），\n",
    "使用END来指定文本末尾，并使用INSERT来指定当前插入点。\n",
    "'''\n",
    "def load():\n",
    "    with open(filename.get()) as file:\n",
    "        contents.delete('1.0',END)\n",
    "        contents.insert(INSERT,file.read())\n",
    "        \n",
    "def save():\n",
    "    with open(filename.get(),'w') as file:\n",
    "        file.write(contents.get('1.0',END))\n",
    "\n",
    "top=Tk()\n",
    "top.title('Simple Editor')\n",
    "\n",
    "contents=ScrolledText()\n",
    "contents.pack(side=BOTTOM,expand=True,fill=BOTH)\n",
    "\n",
    "filename=Entry()#要创建单行文本框，可使用控件Entry\n",
    "filename.pack(side=LEFT,expand=True,fill=X)\n",
    "\n",
    "Button(text='Open',command=load).pack(side=LEFT)\n",
    "Button(text='Save',command=save).pack(side=LEFT)\n",
    "\n",
    "top.mainloop()"
   ]
  },
  {
   "cell_type": "code",
   "execution_count": 44,
   "metadata": {},
   "outputs": [],
   "source": [
    "import tkinter\n",
    "\n",
    "wuya = tkinter.Tk()\n",
    "wuya.title(\"wuya\")\n",
    "wuya.geometry(\"300x50+10+20\")\n",
    "\n",
    "# 创建滚动条\n",
    "scroll = tkinter.Scrollbar()\n",
    "# 将滚动条填充\n",
    "scroll.pack(side=tkinter.RIGHT,fill=tkinter.Y) # side是滚动条放置的位置，上下左右。fill是将滚动条沿着y轴填充\n",
    "\n",
    "# 创建文本框text，设置宽度100，high不是高度，是文本显示的行数设置为3行\n",
    "text = tkinter.Text(wuya,yscrollcommand=scroll.set)\n",
    "text.pack(side=tkinter.LEFT,fill=tkinter.Y) # 将文本框填充进wuya窗口的左侧，\n",
    "# 将滚动条与文本框关联\n",
    "scroll.config(command=text.yview) # 将文本框关联到滚动条上，滚动条滑动，文本框跟随滑动/将滚动条的作用对象设定为选项框的Y轴方向信息\n",
    "# text.config(yscrollcommand=scroll.set) # 将滚动条关联到文本框\n",
    "\n",
    "# 设置文本框内容\n",
    "txt = 'China urges the U.S. to abide by the one-China principle and the principles of the three Sino-U.S.' \\\n",
    "      ' Joint Communiques, and stop all forms of military contact with Taiwan including arms sales, Wu said.'\n",
    "# 将文本内容插入文本框\n",
    "text.insert('insert',txt)\n",
    "\n",
    "\n",
    "\n",
    "wuya.mainloop()"
   ]
  },
  {
   "cell_type": "code",
   "execution_count": null,
   "metadata": {},
   "outputs": [],
   "source": []
  }
 ],
 "metadata": {
  "kernelspec": {
   "display_name": "Python 3",
   "language": "python",
   "name": "python3"
  },
  "language_info": {
   "codemirror_mode": {
    "name": "ipython",
    "version": 3
   },
   "file_extension": ".py",
   "mimetype": "text/x-python",
   "name": "python",
   "nbconvert_exporter": "python",
   "pygments_lexer": "ipython3",
   "version": "3.7.0"
  }
 },
 "nbformat": 4,
 "nbformat_minor": 4
}
