{
 "cells": [
  {
   "cell_type": "markdown",
   "metadata": {},
   "source": [
    "## 第一章 基础知识\n",
    "\n",
    "math.floor(32.9)\t取整\n",
    "\n",
    "复数 cmath\n",
    "\n",
    "绘图-海龟绘图turtle[官方文档](https://docs.python.org/zh-cn/3/library/turtle.html?highlight=tur#module-turtle)， 结束后done(),否则绘图窗口未响应\n",
    "\n",
    "拼接字符串 +\n",
    "\n",
    "python表达式与字符串转换repr()&str()\n",
    "\n",
    "多行字符串''' '''\n",
    "\n",
    "忽略特殊字符，除‘’\n",
    "\n",
    "字符串unicode编码，码点\n",
    "\n",
    "bytes和bytearray，编码/解码将文件存储到磁盘"
   ]
  },
  {
   "cell_type": "code",
   "execution_count": 24,
   "metadata": {},
   "outputs": [
    {
     "name": "stdout",
     "output_type": "stream",
     "text": [
      "hello,world\n",
      "'hello,\\nworld'\n",
      "hello,\n",
      "world\n"
     ]
    }
   ],
   "source": [
    "print('hello,world')\n",
    "print(repr(\"hello,\\nworld\"))    #原样输出\n",
    "print(str(\"hello,\\nworld\"))         #解析\\n后输出"
   ]
  },
  {
   "cell_type": "code",
   "execution_count": 32,
   "metadata": {},
   "outputs": [
    {
     "data": {
      "text/plain": [
       "8.0"
      ]
     },
     "execution_count": 32,
     "metadata": {},
     "output_type": "execute_result"
    }
   ],
   "source": [
    "from math import *\n",
    "ceil(10.888)\n",
    "floor(10.099)\n",
    "pow(2,3)"
   ]
  },
  {
   "cell_type": "code",
   "execution_count": 5,
   "metadata": {},
   "outputs": [],
   "source": [
    "from turtle import *\n",
    "forward(100)\n",
    "left(120)\n",
    "forward(100)\n",
    "left(120)\n",
    "forward(100)\n",
    "done()\n",
    "# penup()收起\n",
    "# pendown()落下"
   ]
  },
  {
   "cell_type": "code",
   "execution_count": 5,
   "metadata": {},
   "outputs": [
    {
     "name": "stdout",
     "output_type": "stream",
     "text": [
      "aaaaa\n",
      "bbbb\n",
      "aaa\n",
      "aa\n"
     ]
    }
   ],
   "source": [
    "# 长字符串\n",
    "print('''aaaaa\n",
    "bbbb\n",
    "aaa\n",
    "aa''')"
   ]
  },
  {
   "cell_type": "code",
   "execution_count": 9,
   "metadata": {},
   "outputs": [
    {
     "name": "stdout",
     "output_type": "stream",
     "text": [
      "C:\\winS\n",
      "C:\\win\\123\n"
     ]
    }
   ],
   "source": [
    "# 原始字符串\n",
    "print('C:\\win\\123')\n",
    "print(r'C:\\win\\123')"
   ]
  },
  {
   "cell_type": "code",
   "execution_count": 8,
   "metadata": {},
   "outputs": [
    {
     "name": "stdout",
     "output_type": "stream",
     "text": [
      "let\\'s go\n",
      "C:\\win\\he\\\n"
     ]
    }
   ],
   "source": [
    "print(r'let\\'s go')#单引号需转义,\\原样输出，最后一个字符不能是\\\n",
    "print(r'C:\\win\\he''\\\\')"
   ]
  },
  {
   "cell_type": "code",
   "execution_count": 10,
   "metadata": {},
   "outputs": [
    {
     "data": {
      "text/plain": [
       "'this is a cat :🐈'"
      ]
     },
     "execution_count": 10,
     "metadata": {},
     "output_type": "execute_result"
    }
   ],
   "source": [
    "\"this is a cat :\\N{cat}\""
   ]
  },
  {
   "cell_type": "code",
   "execution_count": 23,
   "metadata": {},
   "outputs": [
    {
     "name": "stdout",
     "output_type": "stream",
     "text": [
      "b'hello,world'\n",
      "bytearray(b'hillo')\n"
     ]
    }
   ],
   "source": [
    "print('hello,world'.encode('utf-8'))\n",
    "#字符串编码为byte\n",
    "\"hello world\".encode()\n",
    "b'H\\xc3\\xa611\\xc3\\xa5,w\\xc3\\xb8rld'.decode()#解码为字符串，默认编码utf-8\n",
    "'Hæ11å,wørld'.encode()#编码为bytes\n",
    "\n",
    "\n",
    "bytes('Hæ11å,wørld',encoding='utf-8')#直接创建bytes和字符串对象\n",
    "str(b'H\\xc3\\xa611\\xc3\\xa5,w\\xc3\\xb8rld',encoding='utf-8')\n",
    "\n",
    "\n",
    "x=bytearray(b'hello')\n",
    "x[1]=ord(b'i')\n",
    "print(x)"
   ]
  },
  {
   "cell_type": "code",
   "execution_count": null,
   "metadata": {},
   "outputs": [],
   "source": []
  }
 ],
 "metadata": {
  "kernelspec": {
   "display_name": "Python 3",
   "language": "python",
   "name": "python3"
  },
  "language_info": {
   "codemirror_mode": {
    "name": "ipython",
    "version": 3
   },
   "file_extension": ".py",
   "mimetype": "text/x-python",
   "name": "python",
   "nbconvert_exporter": "python",
   "pygments_lexer": "ipython3",
   "version": "3.7.0"
  }
 },
 "nbformat": 4,
 "nbformat_minor": 4
}
