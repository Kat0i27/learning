{
 "cells": [
  {
   "cell_type": "markdown",
   "metadata": {},
   "source": [
    "## 抽象--函数\n",
    "\n",
    "- 判断是否可调用\n",
    "\n",
    "## 自定义函数\n",
    "\n",
    "- 格式\n",
    "- 给函数编写文档,square.\\__doc__查看\n",
    "- help(func)\n",
    "- 函数不一定与返回值\n",
    "\n",
    "## 参数\n",
    "\n",
    "- 作用域-局部\n",
    "- 字符串，数，元组不可变，不能修改；对于可变参数，如列表，函数内修改将关联到参数（外部）\n",
    "- 避免修改需要创建副本\n",
    "- 参数不变，返回值\n",
    "- 关键字参数\n",
    "- 默认值,默认值 缺省参数需放在前\n",
    "- *接受多余参数/元组，\\**接收关键字参数/字典\n",
    "- 分配参数，调用的时候用\n",
    "- 作用域，变量-指向值的名称，vars()\n",
    "- golbal全局变量声明\n",
    "\n",
    "## 函数嵌套\n",
    "\n",
    "## 递归\n",
    "\n",
    "1. 阶乘和幂\n",
    "2. 二分查找\n",
    "\n",
    "## 其他\n",
    "\n",
    "- map（list,func）\n",
    "\n",
    "  对列表中所有元素执行函数\n",
    "\n",
    "- filter(func,seq)\n",
    "\n",
    "  返回列表包含对其执行函数时所有返回真的元素\n",
    "\n",
    "- lambda匿名函数"
   ]
  },
  {
   "cell_type": "code",
   "execution_count": 1,
   "metadata": {},
   "outputs": [
    {
     "name": "stdout",
     "output_type": "stream",
     "text": [
      "计算前多少个斐波那契数？15\n"
     ]
    },
    {
     "data": {
      "text/plain": [
       "[0, 1, 1, 2, 3, 5, 8, 13, 21, 34, 55, 89, 144, 233, 377]"
      ]
     },
     "execution_count": 1,
     "metadata": {},
     "output_type": "execute_result"
    }
   ],
   "source": [
    "#斐波那契数列\n",
    "fibs=[0,1]\n",
    "for i in range(8):\n",
    "    fibs.append(fibs[-2]+fibs[-1])\n",
    "fibs\n",
    "\n",
    "fibs=[0,1]\n",
    "num=int(input('计算前多少个斐波那契数？'))\n",
    "for i in range(num-2):\n",
    "    fibs.append(fibs[-2]+fibs[-1])\n",
    "fibs"
   ]
  },
  {
   "cell_type": "code",
   "execution_count": 3,
   "metadata": {},
   "outputs": [
    {
     "name": "stdout",
     "output_type": "stream",
     "text": [
      "计算前多少个斐波那契数？2\n",
      "[0, 1]\n"
     ]
    }
   ],
   "source": [
    "def fibs(num1):\n",
    "    fibs=[0,1]\n",
    "    for i in range(num1-2):\n",
    "        fibs.append(fibs[-2]+fibs[-1])\n",
    "    return fibs\n",
    "\n",
    "#进一步抽象--函数\n",
    "num1=int(input('计算前多少个斐波那契数？'))\n",
    "print(fibs(num1))"
   ]
  },
  {
   "cell_type": "code",
   "execution_count": 6,
   "metadata": {},
   "outputs": [
    {
     "data": {
      "text/plain": [
       "False"
      ]
     },
     "execution_count": 6,
     "metadata": {},
     "output_type": "execute_result"
    }
   ],
   "source": [
    "import math\n",
    "x=1\n",
    "y=math.sqrt\n",
    "callable(y)\n",
    "callable(x)"
   ]
  },
  {
   "cell_type": "code",
   "execution_count": 10,
   "metadata": {},
   "outputs": [
    {
     "name": "stdout",
     "output_type": "stream",
     "text": [
      "Help on function square in module __main__:\n",
      "\n",
      "square(x)\n",
      "    Calculates the square of the number x\n",
      "\n"
     ]
    }
   ],
   "source": [
    "def square(x):\n",
    "    'Calculates the square of the number x'\n",
    "    return x*x\n",
    "square(5)\n",
    "square.__doc__\n",
    "help(square)"
   ]
  },
  {
   "cell_type": "code",
   "execution_count": 23,
   "metadata": {},
   "outputs": [
    {
     "data": {
      "text/plain": [
       "['Mr.li', 'Gumby']"
      ]
     },
     "execution_count": 23,
     "metadata": {},
     "output_type": "execute_result"
    }
   ],
   "source": [
    "name='kuku'\n",
    "def change_sth(ch):\n",
    "    ch=1\n",
    "change_sth(name)\n",
    "name#不变\n",
    "\n",
    "names=['Mr.li','Gumby']\n",
    "def change2(name):\n",
    "    name=name.copy()#修改copy值，不影响原值\n",
    "    name[0]='Jin'\n",
    "change2(names)\n",
    "# n=names.copy()\n",
    "# n==names\n",
    "# n is names\n",
    "# # change2(n)\n",
    "names\n",
    "\n"
   ]
  },
  {
   "cell_type": "code",
   "execution_count": 34,
   "metadata": {},
   "outputs": [
    {
     "data": {
      "text/plain": [
       "{'first': {'Robin': ['Robin Hood', 'Robin locksely']},\n",
       " 'middle': {'': ['Robin Hood', 'Robin locksely']},\n",
       " 'last': {'Hood': ['Robin Hood'], 'locksely': ['Robin locksely']}}"
      ]
     },
     "execution_count": 34,
     "metadata": {},
     "output_type": "execute_result"
    }
   ],
   "source": [
    "def init(data):\n",
    "    data['first']={}\n",
    "    data['middle']={}\n",
    "    data['last']={}\n",
    "def lookup(data,label,name):\n",
    "    return data[label].get(name)\n",
    "def store(data,full_name):\n",
    "    names=full_name.split()\n",
    "    if len(names)==2: names.insert(1,'')\n",
    "    labels='first','middle','last'\n",
    "    \n",
    "    for label,name in zip(labels,names):\n",
    "        people=lookup(data,label,name)#标签列表整合\n",
    "        if people:\n",
    "            people.append(full_name)#添加\n",
    "        else:\n",
    "            data[label][name]=[full_name]#没有该名称则新插入列表\n",
    "myName={}\n",
    "init(myName)\n",
    "store(myName,'Robin Hood')\n",
    "store(myName,'Robin locksely')\n",
    "lookup(myName,'first','Robin')\n",
    "myName"
   ]
  },
  {
   "cell_type": "code",
   "execution_count": 41,
   "metadata": {},
   "outputs": [
    {
     "data": {
      "text/plain": [
       "[11]"
      ]
     },
     "execution_count": 41,
     "metadata": {},
     "output_type": "execute_result"
    }
   ],
   "source": [
    "#如果参数不变，\n",
    "def inc(x):return x+1\n",
    "foo=10\n",
    "foo=inc(foo)\n",
    "foo\n",
    "#想要改变可以放在列表中，但么必要，推荐返回修改后的值\n",
    "foo=[10]\n",
    "def inc1(x): x[0]+=1\n",
    "inc1(foo)\n",
    "foo\n"
   ]
  },
  {
   "cell_type": "code",
   "execution_count": 52,
   "metadata": {
    "scrolled": true
   },
   "outputs": [
    {
     "name": "stdout",
     "output_type": "stream",
     "text": [
      "hello,world\n",
      "hello,lili\n"
     ]
    }
   ],
   "source": [
    "#关键字参数,不按顺序调用\n",
    "def hello1(greeting,name):\n",
    "    print('{},{}'.format(greeting,name))\n",
    "hello1(greeting='hello',name='world')\n",
    "\n",
    "#默认参数\n",
    "def hello2(name,greeting='hello'):\n",
    "    print('{},{}'.format(greeting,name))\n",
    "hello2(name='lili')"
   ]
  },
  {
   "cell_type": "code",
   "execution_count": 67,
   "metadata": {},
   "outputs": [
    {
     "name": "stdout",
     "output_type": "stream",
     "text": [
      "('Tste',)\n",
      "('Tste', 'ty')\n",
      "params\n",
      "(1, 2, 3)\n",
      "Nothing\n",
      "()\n",
      "1 (2, 3, 4, 5, 6) 7\n",
      "{'x': 1, 'y': 2, 'z': 3}\n",
      "1 2 3\n",
      "(4, 5, 6, 78)\n",
      "{'foo': 1, 'bar': 2}\n",
      "1 2 3\n",
      "()\n",
      "{}\n"
     ]
    }
   ],
   "source": [
    "#收集参数*，元组\n",
    "def print_params(*params):\n",
    "    print(params)\n",
    "print_params('Tste')\n",
    "print_params('Tste','ty')\n",
    "def print_params2(title,*params):\n",
    "    print(title)\n",
    "    print(params)\n",
    "print_params2('params',1,2,3)\n",
    "print_params2('Nothing')\n",
    "#*不会收集关键字参数,**可\n",
    "def in_the_middle(x,*y,z):\n",
    "    print(x,y,z)\n",
    "#in_the_middle(1,2,3,4,5,6,7)#in_the_middle() missing 1 required keyword-only argument: 'z'\n",
    "in_the_middle(1,2,3,4,5,6,z=7)\n",
    "def print_params3(**params):\n",
    "    print(params)\n",
    "print_params3(x=1,y=2,z=3)#字典\n",
    "\n",
    "\n",
    "def print_params4(x,y,z=3,*pospar,**keypar):\n",
    "    print(x,y,z)\n",
    "    print(pospar)\n",
    "    print(keypar)\n",
    "print_params4(1,2,3,4,5,6,78,foo=1,bar=2)\n",
    "print_params4(1,2)\n",
    "\n"
   ]
  },
  {
   "cell_type": "code",
   "execution_count": 74,
   "metadata": {},
   "outputs": [
    {
     "data": {
      "text/plain": [
       "{'first': {'kjk': ['kjk jdks', 'kjk sdj'], 'jshd': ['jshd saaa']},\n",
       " 'middle': {'': ['kjk jdks', 'kjk sdj', 'jshd saaa']},\n",
       " 'last': {'jdks': ['kjk jdks'], 'sdj': ['kjk sdj'], 'saaa': ['jshd saaa']}}"
      ]
     },
     "execution_count": 74,
     "metadata": {},
     "output_type": "execute_result"
    }
   ],
   "source": [
    "def store1(data,*full_names):\n",
    "    for full_name in full_names:\n",
    "        names=full_name.split()\n",
    "        if len(names)==2:names.insert(1,'')\n",
    "        labels='first','middle','last'\n",
    "        for label,name in zip(labels,names):\n",
    "            people=lookup(data,label,name)\n",
    "            if people:\n",
    "                people.append(full_name)\n",
    "            else:\n",
    "                data[label][name]=[full_name]\n",
    "d={}\n",
    "init(d)\n",
    "store1(d,'kjk jdks')\n",
    "store1(d,'kjk sdj','jshd saaa')\n",
    "d"
   ]
  },
  {
   "cell_type": "code",
   "execution_count": 79,
   "metadata": {},
   "outputs": [
    {
     "name": "stdout",
     "output_type": "stream",
     "text": [
      "Well met,Siri\n"
     ]
    }
   ],
   "source": [
    "#分配参数\n",
    "def add(x,y):\n",
    "    return x+y\n",
    "params=(1,2)\n",
    "add(*params)\n",
    "\n",
    "def hello2(name,greeting='hello'):\n",
    "    print('{},{}'.format(greeting,name))\n",
    "\n",
    "params={'name':'Siri','greeting':'Well met'}\n",
    "hello2(**params)"
   ]
  },
  {
   "cell_type": "code",
   "execution_count": 95,
   "metadata": {},
   "outputs": [
    {
     "name": "stdout",
     "output_type": "stream",
     "text": [
      "Once upon a time, there was a king called Gumby\n",
      "Once upon a time, there was a king called Gumby\n",
      "Once upon a time, there was a stroke of genius called Gumby\n",
      "received redundant parameters (4,)\n",
      "received redundant parameters (5, 6)\n"
     ]
    },
    {
     "data": {
      "text/plain": [
       "81.0"
      ]
     },
     "execution_count": 95,
     "metadata": {},
     "output_type": "execute_result"
    }
   ],
   "source": [
    "from math import *\n",
    "def story(**kwds):\n",
    "    return 'Once upon a time, there was a {job} called {name}'.format_map(kwds)\n",
    "def power(x,y,*others):\n",
    "    if others:\n",
    "        print('received redundant parameters',others)\n",
    "    return pow(x,y)\n",
    "def interval(start,stop=None,step=1):\n",
    "    'Imitates range() for step>0'\n",
    "    if stop is None:\n",
    "        start,stop=0,start\n",
    "    result=[]\n",
    "    \n",
    "    i=start\n",
    "    while i<stop:\n",
    "        result.append(i)\n",
    "        i+=step\n",
    "    return result\n",
    "\n",
    "\n",
    "print(story(job='king',name='Gumby'))\n",
    "params={'job':'king','name':'Gumby'}\n",
    "print(story(**params))\n",
    "del params['job']\n",
    "print(story(job='stroke of genius',**params))\n",
    "\n",
    "power(2,3)\n",
    "power(2,3,4)\n",
    "power(x=2,y=3)\n",
    "params=(5,)*2\n",
    "power(*params)\n",
    "\n",
    "interval(10)\n",
    "interval(1,5)\n",
    "interval(1,10,2)\n",
    "power(*interval(3,7))"
   ]
  },
  {
   "cell_type": "code",
   "execution_count": 106,
   "metadata": {},
   "outputs": [
    {
     "data": {
      "text/plain": [
       "6"
      ]
     },
     "execution_count": 106,
     "metadata": {},
     "output_type": "execute_result"
    }
   ],
   "source": [
    "x=1\n",
    "scope=vars()\n",
    "scope['x']\n",
    "\n",
    "scope['x']+=1\n",
    "x\n",
    "\n",
    "#全局变量声明\n",
    "def change_global():\n",
    "    global x\n",
    "    x+=100\n",
    "\n",
    "change_global()\n",
    "x\n",
    "\n",
    "#作用域嵌套\n",
    "def multiplier(factor):\n",
    "    def multiplyByFactor(number):\n",
    "        return factor*number\n",
    "    return multiplyByFactor\n",
    "multiplier(2)(3)#multiplyByFactor(3)"
   ]
  },
  {
   "cell_type": "code",
   "execution_count": 112,
   "metadata": {},
   "outputs": [],
   "source": [
    "#递归-阶乘和幂n*(n-1)*(n-2)...*1\n",
    "def factorial(n):\n",
    "    result=n\n",
    "    for i in range(1,n):\n",
    "        result*=1\n",
    "    return result\n",
    "\n",
    "def factorial1(n):\n",
    "    if n==1:\n",
    "        return 1\n",
    "    else:\n",
    "        return n*factorial1(n-1)\n",
    "factorial1(3)\n",
    "\n",
    "def power(x,n):\n",
    "    result=1\n",
    "    for i in range(n):\n",
    "        result*=x\n",
    "    return result\n",
    "\n",
    "def power1(x,n):\n",
    "    if n==0:\n",
    "        return 1\n",
    "    else:\n",
    "        return x*power1(x,n-1)\n",
    "    "
   ]
  },
  {
   "cell_type": "code",
   "execution_count": 129,
   "metadata": {},
   "outputs": [
    {
     "data": {
      "text/plain": [
       "3"
      ]
     },
     "execution_count": 129,
     "metadata": {},
     "output_type": "execute_result"
    }
   ],
   "source": [
    "#递归-二分查找\n",
    "def search(sequence,number,lower=0,upper=None):\n",
    "    if upper is None:upper=len(sequence)-1\n",
    "        \n",
    "    if lower==upper:\n",
    "        assert number==sequence[upper]\n",
    "        return upper\n",
    "    else:\n",
    "        middle=(lower+upper)//2\n",
    "        if number>sequence[middle]:\n",
    "            return search(sequence,number,middle+1,upper)\n",
    "        else:\n",
    "            return search(sequence,number,lower,middle)\n",
    "seq=[34,56,75,23,13,789,24]\n",
    "seq.sort()\n",
    "seq\n",
    "search(seq,34)\n"
   ]
  },
  {
   "cell_type": "code",
   "execution_count": 128,
   "metadata": {},
   "outputs": [
    {
     "data": {
      "text/plain": [
       "['foo', 'x41']"
      ]
     },
     "execution_count": 128,
     "metadata": {},
     "output_type": "execute_result"
    }
   ],
   "source": [
    "#列表推导式，代替map\n",
    "list(map(str,range(10)))\n",
    "# [str(i) for i in range(10)]\n",
    "def func(x): return x.isalnum()\n",
    "seq=[\"foo\",\"x41\",\"?!\",\"****\"]\n",
    "list(filter(func,seq))\n",
    "#列表推导式代替filter\n",
    "[x for x in seq if x.isalnum()]\n",
    "#匿名函数\n",
    "list(filter(lambda x:x.isalnum(),seq))\n",
    "\n"
   ]
  }
 ],
 "metadata": {
  "kernelspec": {
   "display_name": "Python 3",
   "language": "python",
   "name": "python3"
  },
  "language_info": {
   "codemirror_mode": {
    "name": "ipython",
    "version": 3
   },
   "file_extension": ".py",
   "mimetype": "text/x-python",
   "name": "python",
   "nbconvert_exporter": "python",
   "pygments_lexer": "ipython3",
   "version": "3.7.0"
  }
 },
 "nbformat": 4,
 "nbformat_minor": 4
}
