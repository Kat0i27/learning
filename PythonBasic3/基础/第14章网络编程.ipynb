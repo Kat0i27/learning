{
 "cells": [
  {
   "cell_type": "markdown",
   "metadata": {},
   "source": [
    "### 几个网络模块\n",
    "\n",
    "#### socket套接字\n",
    "\n",
    "服务器套接字和客户端套接字\n",
    "\n",
    "创建服务器套接字后，让它等待连接请求的到来。这样，它将在某个网络地址（由IP地址和端口号组成）处监听，直到客户端套接字建立连接。随\n",
    "\n",
    "服务器必须准备随时处理客户端连接，还必须处理多个连接；而客户端只需连接，完成任务后再断开连接即可\n",
    "\n",
    "套接字是模块socket中socket类的实例。实例化套接字时最多可指定三个参数：\n",
    "\n",
    "- 一个地址族（默认为socket.AF_INET）\n",
    "\n",
    "- 流套接字（socket.SOCK_STREAM，默认设置）\n",
    "\n",
    "  数据报套接字（socket.SOCK_DGRAM）；\n",
    "\n",
    "- 协议（使用默认值0就好）。创建普通套接字时，不用提供任何参数\n",
    "\n",
    "\n",
    "\n",
    "socket创建套接字服务器和客户端\n",
    "\n",
    "### 服务器模块\n",
    "\n",
    "SocketServer是标准库提供的服务器框架的基石，这个框架包括BaseHTTPServer、SimpleHTTPServer、CGIHTTPServer、SimpleXMLRPCServer和DocXMLRPCServer等服务器，它们在基本服务器的基础上添加了各种功能。\n",
    "\n",
    "使用模块SocketServer编写服务器时，大部分代码都位于请求处理器中。每当服务器收到客\n",
    "户端的连接请求时，都将实例化一个请求处理程序，并对其调用各种处理方法来处理请求\n",
    "\n",
    "基本请求处理程序类BaseRequestHandler将所有操作都放在一个方法中——服务器调用的方法handle。\n",
    "\n",
    "这个方法可通过属性self.request来访问客户端套接字。\n",
    "\n",
    "如果处理的是流（使用TCPServer时很可能如此），可使StreamRequestHandler类，\n",
    "\n",
    "它包含另外两个属性：self.rfile（用于读取）和self.wfile（用于写入）。\n",
    "\n",
    "你可使用这两个类似于文件的对象来与客户端通信。"
   ]
  },
  {
   "cell_type": "code",
   "execution_count": null,
   "metadata": {
    "scrolled": true
   },
   "outputs": [],
   "source": [
    "#服务端\n",
    "import socket\n",
    "s = socket.socket()\n",
    "host = socket.gethostname()\n",
    "port = 1234\n",
    "s.bind((host, port))#1.绑定\n",
    "s.listen(5)#2.监听\n",
    "while True:\n",
    "    c, addr = s.accept()#3.接收\n",
    "    print('Got connection from', addr)\n",
    "    c.send(byte('Thank you for connecting',\"utf-8\"))\n",
    "    c.close()\n",
    "    "
   ]
  },
  {
   "cell_type": "code",
   "execution_count": null,
   "metadata": {},
   "outputs": [],
   "source": [
    "#客户端\n",
    "import socket\n",
    "s = socket.socket()\n",
    "host = socket.gethostname()\n",
    "port = 1234\n",
    "s.connect((host, port))#\n",
    "print(s.recv(1024))"
   ]
  },
  {
   "cell_type": "code",
   "execution_count": null,
   "metadata": {},
   "outputs": [],
   "source": [
    "#14.3创建多线程类型的TCP SocketServer\n",
    "import socketserver\n",
    "\n",
    "class MyTCPHandler(socketserver.BaseRequestHandler):\n",
    "    \"\"\"\n",
    "　　 客户端发送a-z字符串，socketserver返回大写\n",
    "    \"\"\"\n",
    "\n",
    "    def handle(self):    #必须要有handle方法；所有处理必须通过handle方法实现\n",
    "        # self.request is the TCP socket connected to the client\n",
    "        while True:\n",
    "            self.data = self.request.recv(1024).strip()\n",
    "            if not self.data:\n",
    "                print('The client disconnects actively!')\n",
    "                break\n",
    "            self.return_client()\n",
    "\n",
    "    def return_client(self):    #数据处理方法\n",
    "        print(\"Ip:{0} Port{1}:\".format(self.client_address[0], self.client_address[1]))\n",
    "        print(self.data.decode('utf8'))\n",
    "        # just send back the same data, but upper-cased\n",
    "        self.request.sendall(self.data.upper())\n",
    "\n",
    "\n",
    "if __name__ == \"__main__\":\n",
    "    HOST, PORT = \"127.0.0.1\", 9990\n",
    "\n",
    "    # Create the server, binding to localhost on port 9999\n",
    "    server = socketserver.ThreadingTCPServer((HOST, PORT), MyTCPHandler)    #实例化一个多线程TCPServer\n",
    "    print('Wait client . . .') \n",
    "    server.serve_forever()"
   ]
  },
  {
   "cell_type": "code",
   "execution_count": null,
   "metadata": {},
   "outputs": [],
   "source": [
    "#14.4TCPsocketClient.py\n",
    "import socket\n",
    "\n",
    "\n",
    "HOST, PORT = \"127.0.0.1\", 9990\n",
    "\n",
    "sock = socket.socket(socket.AF_INET, socket.SOCK_STREAM)\n",
    "sock.connect((HOST, PORT))\n",
    "\n",
    "while True:\n",
    "    data = input('Input [a-z]:>>')\n",
    "    if data == 'bye': break\n",
    "    sock.sendall(bytes(data + \"\\n\", \"utf-8\"))\n",
    "    received = str(sock.recv(1024), \"utf-8\")\n",
    "    print(\"Sent:     {}\".format(data))\n",
    "    print(\"Received: {}\".format(received))\n",
    "sock.close()"
   ]
  }
 ],
 "metadata": {
  "kernelspec": {
   "display_name": "Python 3",
   "language": "python",
   "name": "python3"
  },
  "language_info": {
   "codemirror_mode": {
    "name": "ipython",
    "version": 3
   },
   "file_extension": ".py",
   "mimetype": "text/x-python",
   "name": "python",
   "nbconvert_exporter": "python",
   "pygments_lexer": "ipython3",
   "version": "3.7.0"
  }
 },
 "nbformat": 4,
 "nbformat_minor": 4
}
