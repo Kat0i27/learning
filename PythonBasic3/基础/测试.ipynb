{
 "cells": [
  {
   "cell_type": "markdown",
   "metadata": {},
   "source": [
    "## 测试工具\n",
    "### doctest\n",
    "\n",
    "### unittest\n"
   ]
  },
  {
   "cell_type": "code",
   "execution_count": 1,
   "metadata": {},
   "outputs": [
    {
     "ename": "SyntaxError",
     "evalue": "invalid syntax (<ipython-input-1-3461dc9f59c4>, line 10)",
     "output_type": "error",
     "traceback": [
      "\u001b[1;36m  File \u001b[1;32m\"<ipython-input-1-3461dc9f59c4>\"\u001b[1;36m, line \u001b[1;32m10\u001b[0m\n\u001b[1;33m    iff name=='__main__':\u001b[0m\n\u001b[1;37m           ^\u001b[0m\n\u001b[1;31mSyntaxError\u001b[0m\u001b[1;31m:\u001b[0m invalid syntax\n"
     ]
    }
   ],
   "source": [
    "def squeare(x):\n",
    "    '''\n",
    "计算平方并返回结果\n",
    ">>> square(2)\n",
    "4\n",
    ">>> square(3)\n",
    "9\n",
    "'''\n",
    "    return x * x\n",
    "iff name=='__main__':\n",
    "    import doctest,my_math\n",
    "    doctest.testmod(my_math)"
   ]
  }
 ],
 "metadata": {
  "kernelspec": {
   "display_name": "Python 3",
   "language": "python",
   "name": "python3"
  },
  "language_info": {
   "codemirror_mode": {
    "name": "ipython",
    "version": 3
   },
   "file_extension": ".py",
   "mimetype": "text/x-python",
   "name": "python",
   "nbconvert_exporter": "python",
   "pygments_lexer": "ipython3",
   "version": "3.7.0"
  }
 },
 "nbformat": 4,
 "nbformat_minor": 4
}
