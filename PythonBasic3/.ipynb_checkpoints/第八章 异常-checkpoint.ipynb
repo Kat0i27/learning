{
 "cells": [
  {
   "cell_type": "markdown",
   "metadata": {},
   "source": [
    "## 异常\n",
    "\n",
    "- 抛出异常 **raise**\n",
    "\n",
    "  内置异常类Exception\n",
    "\n",
    "  一些内置异常类\n",
    "\n",
    "- 捕获异常，try...except xxxError:....\n",
    "\n",
    "- 引发异常，传播抑制。捕获到异常后处理时引发别的异常\n",
    "\n",
    "- raise 。。。from。。自定义异常上下文，raise ... from None禁用上下文\n",
    "\n",
    "### try:...except...:\n",
    "\n",
    "- 多个Except，并列或元组统一处理\n",
    "\n",
    "- 捕获对象#except...as e:pass ==最佳==，可得到非except派生类SystemExit,KeyboardInterrupt的错误信息（派生自BaseExcept,Exception的超类）\n",
    "\n",
    "- 捕获所有异常except:\n",
    "\n",
    "- try-except-else:\n",
    "\n",
    "  else：...\t当没有异常的时候执行语句\n",
    "\n",
    "- while True{try-except..as e-else:break}\n",
    "\n",
    "- ...finally:适用于确保文件关闭，网络套接字关闭\n",
    "\n",
    "\n",
    "\n",
    "## 异常和函数\n",
    "\n",
    "- 如不处理函数中引发的异常，它将向上传播到调用函数的地方；若未处理，继续传播到达主程序/全局作用域；若未处理，程序终止并显示栈跟踪消息\n",
    "\n",
    "- 尽量使用try-except而不是if-else\n",
    "\n",
    "## 相对不异常的情况--warnings\n",
    "\n",
    "只打印一条错误消息，可指定警告类别和忽略类别，是warning的子类\n",
    "\n",
    "\n",
    "\n"
   ]
  },
  {
   "cell_type": "code",
   "execution_count": 1,
   "metadata": {},
   "outputs": [
    {
     "ename": "Exception",
     "evalue": "hyperdiver overload",
     "output_type": "error",
     "traceback": [
      "\u001b[1;31m---------------------------------------------------------------------------\u001b[0m",
      "\u001b[1;31mException\u001b[0m                                 Traceback (most recent call last)",
      "\u001b[1;32m<ipython-input-1-fde5a89a8b88>\u001b[0m in \u001b[0;36m<module>\u001b[1;34m\u001b[0m\n\u001b[0;32m      1\u001b[0m \u001b[1;31m#抛出异常\u001b[0m\u001b[1;33m\u001b[0m\u001b[1;33m\u001b[0m\u001b[0m\n\u001b[1;32m----> 2\u001b[1;33m \u001b[1;32mraise\u001b[0m \u001b[0mException\u001b[0m\u001b[1;33m(\u001b[0m\u001b[1;34m'hyperdiver overload'\u001b[0m\u001b[1;33m)\u001b[0m\u001b[1;33m\u001b[0m\u001b[0m\n\u001b[0m\u001b[0;32m      3\u001b[0m \u001b[1;31m#自定义异常类\u001b[0m\u001b[1;33m\u001b[0m\u001b[1;33m\u001b[0m\u001b[0m\n\u001b[0;32m      4\u001b[0m \u001b[1;32mclass\u001b[0m \u001b[0mSomeCustomException\u001b[0m\u001b[1;33m(\u001b[0m\u001b[0mException\u001b[0m\u001b[1;33m)\u001b[0m\u001b[1;33m:\u001b[0m\u001b[1;32mpass\u001b[0m\u001b[1;33m\u001b[0m\u001b[0m\n\u001b[0;32m      5\u001b[0m \u001b[1;31m#异常捕获\u001b[0m\u001b[1;33m\u001b[0m\u001b[1;33m\u001b[0m\u001b[0m\n",
      "\u001b[1;31mException\u001b[0m: hyperdiver overload"
     ]
    }
   ],
   "source": [
    "#抛出异常\n",
    "raise Exception('hyperdiver overload')\n",
    "#自定义异常类\n",
    "class SomeCustomException(Exception):pass\n",
    "#异常捕获\n",
    "\n",
    "\n"
   ]
  },
  {
   "cell_type": "code",
   "execution_count": null,
   "metadata": {},
   "outputs": [],
   "source": [
    "try:\n",
    "    x=int(input('Enter the first number: '))\n",
    "    y=int(input('Enter the second number: '))\n",
    "    print(x/y)\n",
    "except ZeroDivisionError:\n",
    "    print(\"the second number can't be zero.\")"
   ]
  },
  {
   "cell_type": "code",
   "execution_count": null,
   "metadata": {},
   "outputs": [],
   "source": [
    "class MuffledCalculator:\n",
    "    muffld=False#关闭抑制，继续向上传播\n",
    "    def calc(self,expr):\n",
    "        try:\n",
    "            return eval(expr)\n",
    "        except ZeroDivisionError:\n",
    "            if self.muffld:\n",
    "                print('Division by zero is illegal')\n",
    "            else:\n",
    "                raise\n",
    "cal=MuffledCalculator()\n",
    "cal.calc('10/2')\n",
    "cal.calc('10/0')"
   ]
  },
  {
   "cell_type": "code",
   "execution_count": null,
   "metadata": {},
   "outputs": [],
   "source": [
    "try:\n",
    "    1/0\n",
    "except ZeroDivisionError:#捕获到异常后，处理时引发了另一异常\n",
    "    raise ValueError\n",
    "    #raise ValueError from None #禁用上下文\n",
    "    "
   ]
  },
  {
   "cell_type": "code",
   "execution_count": null,
   "metadata": {},
   "outputs": [],
   "source": [
    "#多个except\n",
    "try:\n",
    "    x=int(input('Enter the first number: '))\n",
    "    y=int(input('Enter the second number: '))\n",
    "    print(x/y)\n",
    "except ZeroDivisionError:\n",
    "    print(\"the second number can't be zero.\")\n",
    "except TypeError:\n",
    "    print(\"that wasn't a number,was it?\")\n",
    "except ValueError:\n",
    "    print(\"invalid literal for int\")\n",
    "\n"
   ]
  },
  {
   "cell_type": "code",
   "execution_count": null,
   "metadata": {},
   "outputs": [],
   "source": [
    "#except...():\n",
    "try:\n",
    "    x=int(input('Enter the first number: '))\n",
    "    y=int(input('Enter the second number: '))\n",
    "    print(x/y)\n",
    "except(ZeroDivisionError,TypeError,ValueError):\n",
    "    print(\"your number were bogus\")"
   ]
  },
  {
   "cell_type": "code",
   "execution_count": null,
   "metadata": {},
   "outputs": [],
   "source": [
    "#except...as ..:\n",
    "try:\n",
    "    x=int(input('Enter the first number: '))\n",
    "    y=int(input('Enter the second number: '))\n",
    "    print(x/y)\n",
    "except(ZeroDivisionError,TypeError,ValueError) as e:#捕获异常对象\n",
    "    print(e)\n",
    "    "
   ]
  },
  {
   "cell_type": "code",
   "execution_count": null,
   "metadata": {},
   "outputs": [],
   "source": [
    "#捕获所有异常，except:\n",
    "try:\n",
    "    x=int(input('Enter the first number: '))\n",
    "    y=int(input('Enter the second number: '))\n",
    "    print(x/y)\n",
    "except:\n",
    "    print(\"your number were bogus\")"
   ]
  },
  {
   "cell_type": "code",
   "execution_count": null,
   "metadata": {},
   "outputs": [],
   "source": [
    "#try-except-else:\n",
    "try:\n",
    "    print(\"A simple talk\")\n",
    "except:\n",
    "    print(\"Something was wrong\")\n",
    "else:\n",
    "    print(\"Ah...It's a plan\")\n",
    "\n",
    "while True:\n",
    "    try:\n",
    "        x=int(input('Enter the first number: '))\n",
    "        y=int(input('Enter the second number: '))\n",
    "        print(\"x/y is\",x/y)\n",
    "    except Exception as e:\n",
    "        print(\"Bad input.\",e)\n",
    "        print(\"please try again.\")\n",
    "    else:\n",
    "        break\n",
    "        "
   ]
  },
  {
   "cell_type": "code",
   "execution_count": null,
   "metadata": {},
   "outputs": [],
   "source": [
    "#finally，发生异常时执行清理工作\n",
    "x=None#不初始化则ZeroDivisionError导致来不及赋值，后续清理del时引发未捕获异常(NameError: name 'x' is not define/d)\n",
    "try:\n",
    "    x=1/0\n",
    "finally:\n",
    "    print('Cleaning up...')\n",
    "    del x\n"
   ]
  },
  {
   "cell_type": "code",
   "execution_count": null,
   "metadata": {},
   "outputs": [],
   "source": [
    "try:\n",
    "    1/0\n",
    "except NameError:\n",
    "    pritn(\"Unknow Variable\")\n",
    "else:\n",
    "    print(\"That went well\")\n",
    "finally:\n",
    "    print(\"Clean up\")"
   ]
  },
  {
   "cell_type": "code",
   "execution_count": null,
   "metadata": {},
   "outputs": [],
   "source": [
    "#异常传播和函数\n",
    "def faulty():\n",
    "    raise Exception('Something is wrong')\n",
    "def ignore_exception():\n",
    "    faulty()#faulty()中引发的异常将从ignore_exception-主程序-栈，faulty-处理异常程序向外传播\n",
    "def handle_exception():\n",
    "    try:\n",
    "        faulty()\n",
    "    except:\n",
    "        print(\"Exception handled\")\n",
    "\n",
    "handle_exception()\n",
    "ignore_exception()"
   ]
  },
  {
   "cell_type": "code",
   "execution_count": null,
   "metadata": {},
   "outputs": [],
   "source": [
    "class Person:\n",
    "    def setname(self,name):\n",
    "        self.name=name\n",
    "        \n",
    "    def setage(self,age):\n",
    "        self.age=age\n",
    "        \n",
    "    def setjob(self,job):\n",
    "        self.job=job\n",
    "\n",
    "def description_person(person):\n",
    "    print('name:',person.name)\n",
    "    print('age',person.age)\n",
    "    try:\n",
    "        print('job:',person.job)\n",
    "    except AttributeError:pass\n",
    "#相比if-else，try-except更佳\n",
    "p=Person()\n",
    "p.setname('lihua')\n",
    "p.setage(18)\n",
    "# p.setjob('doc')\n",
    "\n",
    "description_person(p)"
   ]
  },
  {
   "cell_type": "code",
   "execution_count": 2,
   "metadata": {},
   "outputs": [
    {
     "name": "stderr",
     "output_type": "stream",
     "text": [
      "c:\\users\\lizi\\appdata\\local\\programs\\python\\python37\\lib\\site-packages\\ipykernel_launcher.py:5: UserWarning: there is a little bad\n",
      "  \"\"\"\n"
     ]
    }
   ],
   "source": [
    "from warnings import warn,filterwarnings\n",
    "#filterwarnings(\"error\")#抑制警告ignore/显示error\n",
    "filterwarnings(\"ignore\",category=DeprecationWarning)#过滤特点警告\n",
    "warn(\"there is a little ..\",DeprecationWarning)#指定特定类型警告\n",
    "warn(\"there is a little bad\")#只显示一次，类型UserWarning"
   ]
  },
  {
   "cell_type": "code",
   "execution_count": null,
   "metadata": {},
   "outputs": [],
   "source": []
  }
 ],
 "metadata": {
  "kernelspec": {
   "display_name": "Python 3",
   "language": "python",
   "name": "python3"
  },
  "language_info": {
   "codemirror_mode": {
    "name": "ipython",
    "version": 3
   },
   "file_extension": ".py",
   "mimetype": "text/x-python",
   "name": "python",
   "nbconvert_exporter": "python",
   "pygments_lexer": "ipython3",
   "version": "3.7.0"
  }
 },
 "nbformat": 4,
 "nbformat_minor": 4
}
