{
 "cells": [
  {
   "cell_type": "markdown",
   "metadata": {},
   "source": [
    "## 第二章 列表和元组\n",
    "\n",
    "数据结构：序列，索引/偏移量\t0\t-1\n",
    "\n",
    "列表可修改，元组不可以\n",
    "\n",
    "操作：索引，切片，相加，相乘，成员检查\n",
    "\n",
    "索引相加\n",
    "\n",
    "空列表\n",
    "\n",
    "成员资格：序列，字符串\tin\n",
    "\n",
    "最大值，最小值，长度函数\n",
    "\n",
    "list替换可以长度不同\n",
    "\n",
    "插入新元素，与删除替换\n",
    "\n",
    "列表方法：append(),clear(),=和.copy(),extend()\n",
    "\n",
    "extend()修改的序列是调用序列，常规+拼接产生新序列\n",
    "\n",
    "index(),insert(),pop(),\n",
    "\n",
    "**pop()唯一修改列表但返回非None的方法**，作用于append相反\n",
    "\n",
    "remove()删除第一个值为指定值的元素\n",
    "\n",
    "reserse()反序，但直接作用于调用序列，要想得到反序后的值可调用reversed(a)，返回一个迭代器，可使用list将其变为列表（强制迭代完成）\n",
    "\n",
    "sort()返回None直接修改调用序列，sorted可作用与任一序列，总返回一个列表\n",
    "\n",
    "sort可选参数，key,reverse\n",
    "\n",
    "\n",
    "\n",
    "元组，序列，不可修改\n",
    "\n",
    "一个值的元组（value,)\n",
    "\n",
    "元组可作为映射中的键，列表不行"
   ]
  },
  {
   "cell_type": "code",
   "execution_count": 6,
   "metadata": {},
   "outputs": [
    {
     "data": {
      "text/plain": [
       "[['Edward Gumby', 42], ['Jhon Smith', 50]]"
      ]
     },
     "execution_count": 6,
     "metadata": {},
     "output_type": "execute_result"
    }
   ],
   "source": [
    "edward=['Edward Gumby',42]\n",
    "jhon=['Jhon Smith',50]\n",
    "database=[edward,jhon]\n",
    "database"
   ]
  },
  {
   "cell_type": "code",
   "execution_count": 13,
   "metadata": {},
   "outputs": [
    {
     "name": "stdout",
     "output_type": "stream",
     "text": [
      "year: 2020\n"
     ]
    },
    {
     "data": {
      "text/plain": [
       "'0'"
      ]
     },
     "execution_count": 13,
     "metadata": {},
     "output_type": "execute_result"
    }
   ],
   "source": [
    "#通用操作：索引，切片，相加，相乘，成员检查\n",
    "\n",
    "#索引\n",
    "greeting='hello'\n",
    "greeting[0]\n",
    "greeting[-1]\n",
    "'hello'[-2]\n",
    "\n",
    "\n",
    "forth=input('year: ')[3]#获取用户输入第四位\n",
    "forth"
   ]
  },
  {
   "cell_type": "code",
   "execution_count": null,
   "metadata": {},
   "outputs": [],
   "source": [
    "#将数字以指定年月日日期打印\n",
    "months=[\n",
    "    'January',\n",
    "    'February',\n",
    "    'March',\n",
    "    'April',\n",
    "    'May',\n",
    "    'June',\n",
    "    'July',\n",
    "    'August',\n",
    "    'September',\n",
    "    'October',\n",
    "    'November',\n",
    "    'December'\n",
    "]\n",
    "#列表，包含数1~31对应的结尾\n",
    "endings=['st','nd','rd']+17*['th']\\\n",
    "        +['st','nd','rd']+7*['th']\\\n",
    "        +['st']\n",
    "\n",
    "year=input('Year:')\n",
    "month=input('Month(1-12):')\n",
    "day=input('Day(1-31):')\n",
    "\n",
    "month_number=int(month)\n",
    "day_number=int(day)\n",
    "\n",
    "#索引处理\n",
    "month_name=months[month_number-1]\n",
    "ordinal=day+endings[day_number-1]\n",
    "\n",
    "print(month_name+' '+ordinal+','+year)"
   ]
  },
  {
   "cell_type": "code",
   "execution_count": 19,
   "metadata": {},
   "outputs": [
    {
     "data": {
      "text/plain": [
       "[None, None, None, None, None, None, None, None, None, None]"
      ]
     },
     "execution_count": 19,
     "metadata": {},
     "output_type": "execute_result"
    }
   ],
   "source": [
    "#切片\n",
    "tag='<a href=\"http://www.python.org\">Python Web Site</a>'\n",
    "tag[9:30]\n",
    "tag[32:-4]\n",
    "\n",
    "numbers=[1,2,3,4,5,6,7,8,9,0]\n",
    "numbers[-3:-1]\n",
    "numbers[-3:]\n",
    "numbers[:]\n",
    "numbers[0:10:1]\n",
    "numbers[0:10:2]\n",
    "numbers[::3]\n",
    "numbers[::-1]#反向提取\n",
    "\n",
    "#序数相加\n",
    "[1,2,3]+[4,5,6]\n",
    "'hello'+'world'\n",
    "\n",
    "#相乘\n",
    "'python'*5\n",
    "[32]*5\n",
    "\n",
    "#None\n",
    "[None]*10\n"
   ]
  },
  {
   "cell_type": "code",
   "execution_count": 7,
   "metadata": {},
   "outputs": [
    {
     "name": "stdout",
     "output_type": "stream",
     "text": [
      "please input the url: http://www.python.org\n",
      "Domain name:python\n"
     ]
    }
   ],
   "source": [
    "#域名提取\n",
    "url=input('please input the url: ')\n",
    "domain=url[11:-4]\n",
    "print(\"Domain name:\"+domain)"
   ]
  },
  {
   "cell_type": "code",
   "execution_count": 23,
   "metadata": {},
   "outputs": [
    {
     "name": "stdout",
     "output_type": "stream",
     "text": [
      "Sentence: jjjjjjjjjj\n",
      "\n",
      "                                +--------------+\n",
      "                                |              |\n",
      "                                |  jjjjjjjjjj  |\n",
      "                                |              |\n",
      "                                +--------------+\n"
     ]
    }
   ],
   "source": [
    "# 屏幕中间打印一个句子\n",
    "sentence=input('Sentence: ')\n",
    "\n",
    "screen_width=80\n",
    "text_eith=len(sentence)\n",
    "box_width=text_eith+6\n",
    "left_margin=(screen_width-box_width)//2\n",
    "\n",
    "print()\n",
    "print(' '*left_margin+'+'+'-'*(box_width-2)+'+')\n",
    "print(' '*left_margin+'|  '+' '*text_eith+'  |')\n",
    "print(' '*left_margin+'|  '+sentence+'  |')\n",
    "print(' '*left_margin+'|  '+' '*text_eith+'  |')\n",
    "print(' '*left_margin+'+'+'-'*(box_width-2)+'+')"
   ]
  },
  {
   "cell_type": "code",
   "execution_count": 27,
   "metadata": {},
   "outputs": [
    {
     "name": "stdout",
     "output_type": "stream",
     "text": [
      "Enter you username: lili\n"
     ]
    },
    {
     "data": {
      "text/plain": [
       "False"
      ]
     },
     "execution_count": 27,
     "metadata": {},
     "output_type": "execute_result"
    }
   ],
   "source": [
    "permission ='rw'\n",
    "'w' in permission\n",
    "'x' in permission\n",
    "\n",
    "\n",
    "users=['mls','hde','foo','bar']\n",
    "input('Enter you username: ')in users\n"
   ]
  },
  {
   "cell_type": "code",
   "execution_count": 31,
   "metadata": {},
   "outputs": [
    {
     "name": "stdout",
     "output_type": "stream",
     "text": [
      "User name: lili\n",
      "PIN code: 123\n",
      "Not found this user\n"
     ]
    }
   ],
   "source": [
    "database=[\n",
    "    ['albert','1234'],\n",
    "    ['dilbert','4242'],\n",
    "    ['smith','7524'],\n",
    "    ['Jones','9843']\n",
    "]\n",
    "username=input('User name: ')\n",
    "pin=input('PIN code: ')\n",
    "if[username,pin]in database: \n",
    "    print('Access granted')"
   ]
  },
  {
   "cell_type": "code",
   "execution_count": 35,
   "metadata": {},
   "outputs": [
    {
     "data": {
      "text/plain": [
       "3"
      ]
     },
     "execution_count": 35,
     "metadata": {},
     "output_type": "execute_result"
    }
   ],
   "source": [
    "numbers=[100,87,1929]\n",
    "max(numbers)\n",
    "min(numbers)\n",
    "len(numbers)"
   ]
  },
  {
   "cell_type": "code",
   "execution_count": 86,
   "metadata": {},
   "outputs": [
    {
     "data": {
      "text/plain": [
       "['a123444', 'aaaaa', 'bbb', 'cv']"
      ]
     },
     "execution_count": 86,
     "metadata": {},
     "output_type": "execute_result"
    }
   ],
   "source": [
    "#列表\n",
    "n=list('hello')#列表生成\n",
    "''.join(n)#列表转字符串\n",
    "\n",
    "x=[1,1,1,1]\n",
    "x[1]=2\n",
    "del x[3]\n",
    "\n",
    "\n",
    "name=list('Perl')\n",
    "name\n",
    "name[2:]=list('ar')#列表赋值\n",
    "name[1:]=list('Python')\n",
    "name[1:1]=[2,1,3]#插入新元素\n",
    "name[2:4]=[]#删除\n",
    "name[-4:-1]=list('hello')\n",
    "name\n",
    "\n",
    "lst=[1,2,3]\n",
    "lst.append(4)#插于末尾\n",
    "lst.clear()\n",
    "lst\n",
    "\n",
    "a=['a','b','c']\n",
    "b=a\n",
    "c=a.copy()\n",
    "b[1]=4\n",
    "a\n",
    "c\n",
    "\n",
    "a=[1,2,3]\n",
    "b=[4,5,6]\n",
    "c=a+b+[1]\n",
    "a.extend(b)\n",
    "a\n",
    "c\n",
    "\n",
    "knigths=['we','are','the','knigths','hi','who','say','hi']\n",
    "knigths.index('who')#索引搜索\n",
    "knigths.insert(3,'hhhhhhhhhhhhh')\n",
    "knigths.pop(4)#数字=索引+1\n",
    "knigths.append(knigths.pop())\n",
    "knigths\n",
    "knigths.remove('hi')\n",
    "knigths.reverse()\n",
    "knigths\n",
    "\n",
    "x=[1,2,3]\n",
    "list(reversed(x))#迭代器-列表\n",
    "x=[4,5,8,2,3,6,1,9]\n",
    "x.sort()\n",
    "x\n",
    "\n",
    "#sort()返回None\n",
    "x=[4,5,8,2,3,6,1,9]\n",
    "y=x.sort()\n",
    "y#None\n",
    "\n",
    "y=sorted(x)\n",
    "y\n",
    "#或者\n",
    "y=x.copy()\n",
    "y.sort()\n",
    "y\n",
    "\n",
    "x=['aaaaa','cv','bbb','a123444']\n",
    "x.sort(key=len,reverse=True)\n",
    "x"
   ]
  },
  {
   "cell_type": "code",
   "execution_count": 98,
   "metadata": {},
   "outputs": [
    {
     "data": {
      "text/plain": [
       "4"
      ]
     },
     "execution_count": 98,
     "metadata": {},
     "output_type": "execute_result"
    }
   ],
   "source": [
    "(1,2,3)\n",
    "1,2,3\n",
    "()\n",
    "len((1,))\n",
    "3*(40+2)\n",
    "3*(40+2,)\n",
    "x=(1,2,3,4)\n",
    "x[-1]"
   ]
  }
 ],
 "metadata": {
  "kernelspec": {
   "display_name": "Python 3",
   "language": "python",
   "name": "python3"
  },
  "language_info": {
   "codemirror_mode": {
    "name": "ipython",
    "version": 3
   },
   "file_extension": ".py",
   "mimetype": "text/x-python",
   "name": "python",
   "nbconvert_exporter": "python",
   "pygments_lexer": "ipython3",
   "version": "3.7.0"
  }
 },
 "nbformat": 4,
 "nbformat_minor": 4
}
