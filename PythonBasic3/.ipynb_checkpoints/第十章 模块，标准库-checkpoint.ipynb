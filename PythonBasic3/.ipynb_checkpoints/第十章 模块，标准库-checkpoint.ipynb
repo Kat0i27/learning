{
 "cells": [
  {
   "cell_type": "markdown",
   "metadata": {},
   "source": [
    "## 模块\n",
    "\n",
    "#### 模块就是程序\n",
    "\n",
    "- 导入：\n",
    "\n",
    "import math\n",
    "\n",
    "math.sin(0)\n",
    "\n",
    "- 自定义模块：\n",
    "\n",
    "1. 编写xxx.py\n",
    "\n",
    "2. import sys\n",
    "\n",
    "   sys.path.append('xxx.py绝对路径')告诉解释器去哪里查找(除了通常查找的位置)\n",
    "\n",
    "   eg.对于文件C:\\python\\hello.py,此处路径填写C:\\python\n",
    "\n",
    "只导入一次\n",
    "\n",
    "#### 模块-定义\n",
    "\n",
    "1. 在模块中定义函数--代码重用\n",
    "\n",
    "2. 在测试快中添加代码\n",
    "\n",
    "#### 让模块可用\n",
    "\n",
    "1. 放在正确位置\n",
    "\n",
    "sys.path--找到目录列表\n",
    "\n",
    "2. 告诉解释器去哪找\n",
    "\n",
    "   1. 修改sys.path(不常见)\n",
    "\n",
    "   2. （标准做法）将模块所在目录包含在pythonpath中\n",
    "\n",
    "      ```shell\n",
    "      export PYTHONPATH=$PYTHONPATH:模块路径(例如~/python)\n",
    "      ```\n",
    "\n",
    "   3. 路劲配置文件.pth\n",
    "\n",
    "### 包\n",
    "\n",
    "模块编组为包（另一种模块，可包含其他模块）\n",
    "\n",
    "模块存储在.py文件，包则是一个目录\n",
    "\n",
    "1. 一种包简单布局：\n",
    "\n",
    "~/python/\t\tPYTHONPATH中的目录\n",
    "\n",
    "包目录~/python/drawing{`__init__.py`(包代码，模块)，模块1.py，模块2.py}\n",
    "\n",
    "2. 导入\n",
    "\n",
    "   import 包目录drawing\n",
    "\n",
    "   import drawing.模块1\n",
    "\n",
    "   或from drawing import 模块2\n",
    "\n",
    "\n",
    "\n",
    "### 模块内容\n",
    "\n",
    "1. dir函数列出模块所有属性\n",
    "\n",
    "2. 变量\\__all__得到公有接口\n",
    "\n",
    "3. help()\n",
    "\n",
    "4. 文档内容xxx.\\__doc__\n",
    "\n",
    "   一般在想了解函数功能时使用\n",
    "\n",
    "5. xxx模块.\\__file__查看源代码路径\n",
    "\n",
    "6. \n",
    "\n",
    "\n",
    "\n",
    "## 标准库\n",
    "\n",
    "### sys-访问与Python解释器紧密相关的变量和函数\n",
    "\n",
    "argv 命令行参数，包括脚本名(第一个元素，后续为参数类似shell)\n",
    "exit([arg]) 退出当前程序，可通过可选参数指定返回值或错误消息,try/finally块中调用\n",
    "modules 一个字典，将模块名映射到加载的模块\n",
    "path 一个列表，包含要在其中查找模块的目录的名称\n",
    "platform 一个平台标识符，如sunos5或win32\n",
    "stdin 标准输入流——一个类似于文件的对象\n",
    "stdout 标准输出流——一个类似于文件的对象\n",
    "\n",
    "Python从sys.stdin获取输入（例如，用于input中）并将输出打印到sys.stdout\n",
    "\n",
    "stderr 标准错误流——一个类似于文件的对象\n",
    "\n",
    "### os-访问多个操作系统服务\n",
    "\n",
    "environ 包含环境变量的映射\n",
    "system(command) 在子shell中执行操作系统命令\n",
    "sep 路径中使用的分隔符\n",
    "pathsep 分隔不同路径的分隔符\n",
    "linesep 行分隔符（'\\n'、'\\r'或'\\r\\n'）\n",
    "urandom(n) 返回n个字节的强加密随机数据\n",
    "\n",
    "### fileinput\n",
    "\n",
    "input([files[, inplace[, backup]]]) 帮助迭代多个输入流中的行,返回一个可在for循环中进行迭代的对象\n",
    "filename() 返回当前文件的名称\n",
    "lineno() 返回（累计的）当前行号\n",
    "filelineno() 返回在当前文件中的行号\n",
    "isfirstline() 检查当前行是否是文件中的第一行\n",
    "isstdin() 检查最后一行是否来自sys.stdin\n",
    "nextfile() 关闭当前文件并移到下一个文件\n",
    "close() 关闭序列\n",
    "\n",
    "### 集合堆双端队列\n",
    "\n",
    "#### 集合\n",
    "\n",
    "- 不重复，可变，不可做为dic键值\n",
    "- 不可变集合forzenset\n",
    "- 空集合set()\n",
    "- 集合运算\n",
    "- 集合拷贝\n",
    "\n",
    "#### 堆\n",
    "\n",
    "- 优先队列\n",
    "\n",
    "- 堆操作模块heapq\n",
    "\n",
    "  heappush(heap, x) 将x压入堆中\n",
    "  heappop(heap) 从堆中弹出最小的元素\n",
    "  **heapify**(heap) 让列表具备堆特征\n",
    "  heapreplace(heap, x) 弹出最小的元素，并将x压入堆中\n",
    "  nlargest(n, iter) 返回iter中n个最大的元素\n",
    "  nsmallest(n, iter) 返回iter中n个最小的元素\n",
    "\n",
    "- 堆特征：\n",
    "\n",
    "  位置i处的元素总大于i//2处的元素\n",
    "\n",
    "\n",
    "\n",
    "### time\n",
    "\n",
    "格式：\n",
    "\n",
    "1. 实数\t1970年起秒数\n",
    "2. 元组9（年，月，日，时，分，秒，星期，第几天，夏令时）\n",
    "\n",
    "asctime([tuple]) 将时间元组转换为字符串\n",
    "\n",
    "strptime(string[, format]) 将字符串转换为时间元组\n",
    "\n",
    "localtime([secs]) 将秒数转换为表示当地时间的日期元组\n",
    "mktime(tuple) 将日期元组转换为当地时间\n",
    "sleep(secs) 休眠（什么都不做）secs秒\n",
    "\n",
    "time() 当前时间（从新纪元开始后的秒数，以UTC为准）\n",
    "\n",
    "### random-伪随机\n",
    "\n",
    "真正随机-考虑os中的urandom\n",
    "\n",
    "\n",
    "random() 返回一个0~1（含）的随机实数\n",
    "\n",
    "getrandbits(n) 以长整数方式返回n个随机的二进制位\n",
    "\n",
    "uniform(a, b) 返回一个a~b（含）的随机实数\n",
    "\n",
    "randrange([start], stop, [step]) 从range(start, stop, step)中随机地选择一个数\n",
    "\n",
    "choice(seq) 从序列seq中随机地选择一个元素\n",
    "\n",
    "shuffle(seq[, random]) 就地打乱序列seq\n",
    "\n",
    "sample(seq, n) 从序列seq中随机地选择n个值不同的元素\n",
    "\n",
    "\n",
    "\n",
    "### shelve\n",
    "\n",
    "s=shelve.open(’文件名‘)\n",
    "\n",
    "s=字典数据\n",
    "\n",
    "s.close()\n",
    "\n",
    "### json\n",
    "\n",
    "### re正则表达式\n",
    "\n",
    "- 通配符*?.\n",
    "\n",
    "- 特殊字符转义\\,\\\\\\或原始字符串`r'c:\\'`\n",
    "\n",
    "- 字符集[a-zA-Z0-9]\n",
    "\n",
    "- 二选一(|)\n",
    "\n",
    "- 可选部分`r'(http://)?(www\\.)?python\\.org'`\n",
    "\n",
    "  ?可有可无\n",
    "\n",
    "  *：出现0，1，多次\n",
    "\n",
    "  +：1，多次\n",
    "\n",
    "  {m,n}: 重复m-n次\n",
    "\n",
    "  全字匹配\n",
    "\n",
    "- 开头结尾^ $\n",
    "\n",
    "#### 函数\n",
    "\n",
    "```python\n",
    "compile(pattern[, flags]) 根据包含正则表达式的字符串创建模式对象\n",
    "search(pattern, string[, flags]) 在字符串中查找模式\n",
    "match(pattern, string[, flags]) 在字符串开头匹配模式\n",
    "split(pattern, string[, maxsplit=0]) 根据模式来分割字符串\n",
    "findall(pattern, string) 返回一个列表，其中包含字符串中所有与模式匹配的子串\n",
    "sub(pat, repl, string[, count=0]) 将字符串中与模式pat匹配的子串都替换为repl\n",
    "escape(string) 对字符串中所有的正则表达式特殊字符都进行转义\n",
    "\n",
    "```\n",
    "\n",
    "```\n",
    "re.compile('pattern', re.I | re.M)与re.compile('(?im)pattern')是等价的。\n",
    "可选值有：\n",
    "\n",
    "re.I(re.IGNORECASE): 忽略大小写（括号内是完整写法，下同）\n",
    "M(MULTILINE): 多行模式，改变'^'和'$'的行为（参见上图）\n",
    "S(DOTALL): 点任意匹配模式，改变'.'的行为\n",
    "L(LOCALE): 使预定字符类 \\w \\W \\b \\B \\s \\S 取决于当前区域设定\n",
    "U(UNICODE): 使预定字符类 \\w \\W \\b \\B \\s \\S \\d \\D 取决于unicode定义的字符属性\n",
    "X(VERBOSE): 详细模式。这个模式下正则表达式可以是多行，忽略空白字符，并可以加入注释。\n",
    "```\n",
    "\n",
    "\n",
    "\n",
    "#### 匹配对象与组\n",
    "\n",
    "group([group1, ...]) 获取与给定子模式（编组）匹配的子串\n",
    "start([group]) 返回与给定编组匹配的子串的起始位置\n",
    "end([group]) 返回与给定编组匹配的子串的终止位置（与切片一样，不包含终止位置）\n",
    "span([group]) 返回与给定编组匹配的子串的起始和终止位置\n",
    "\n",
    "##### 贪婪非贪婪\n",
    "\n"
   ]
  },
  {
   "cell_type": "code",
   "execution_count": 7,
   "metadata": {},
   "outputs": [
    {
     "name": "stdout",
     "output_type": "stream",
     "text": [
      "hello,world!\n"
     ]
    },
    {
     "data": {
      "text/plain": [
       "'hello1'"
      ]
     },
     "execution_count": 7,
     "metadata": {},
     "output_type": "execute_result"
    }
   ],
   "source": [
    "import hello1\n",
    "# import sys\n",
    "# sys.path.append('')\n",
    "hello1.hello()\n",
    "hello1.__name__"
   ]
  },
  {
   "cell_type": "code",
   "execution_count": 9,
   "metadata": {},
   "outputs": [
    {
     "name": "stdout",
     "output_type": "stream",
     "text": [
      "hello,world!\n"
     ]
    },
    {
     "data": {
      "text/plain": [
       "'__main__'"
      ]
     },
     "execution_count": 9,
     "metadata": {},
     "output_type": "execute_result"
    }
   ],
   "source": [
    "from hello1 import *\n",
    "hello()\n",
    "__name__"
   ]
  },
  {
   "cell_type": "code",
   "execution_count": 13,
   "metadata": {},
   "outputs": [
    {
     "name": "stdout",
     "output_type": "stream",
     "text": [
      "Hello,world!\n"
     ]
    }
   ],
   "source": [
    "import hello4\n",
    "hello4.test()"
   ]
  },
  {
   "cell_type": "code",
   "execution_count": 15,
   "metadata": {},
   "outputs": [
    {
     "name": "stdout",
     "output_type": "stream",
     "text": [
      "['D:\\\\Workspace\\\\python\\\\PythonBasic3',\n",
      " 'c:\\\\users\\\\lizi\\\\appdata\\\\local\\\\programs\\\\python\\\\python37\\\\python37.zip',\n",
      " 'c:\\\\users\\\\lizi\\\\appdata\\\\local\\\\programs\\\\python\\\\python37\\\\DLLs',\n",
      " 'c:\\\\users\\\\lizi\\\\appdata\\\\local\\\\programs\\\\python\\\\python37\\\\lib',\n",
      " 'c:\\\\users\\\\lizi\\\\appdata\\\\local\\\\programs\\\\python\\\\python37',\n",
      " '',\n",
      " 'c:\\\\users\\\\lizi\\\\appdata\\\\local\\\\programs\\\\python\\\\python37\\\\lib\\\\site-packages',\n",
      " 'c:\\\\users\\\\lizi\\\\appdata\\\\local\\\\programs\\\\python\\\\python37\\\\lib\\\\site-packages\\\\win32',\n",
      " 'c:\\\\users\\\\lizi\\\\appdata\\\\local\\\\programs\\\\python\\\\python37\\\\lib\\\\site-packages\\\\win32\\\\lib',\n",
      " 'c:\\\\users\\\\lizi\\\\appdata\\\\local\\\\programs\\\\python\\\\python37\\\\lib\\\\site-packages\\\\Pythonwin',\n",
      " 'c:\\\\users\\\\lizi\\\\appdata\\\\local\\\\programs\\\\python\\\\python37\\\\lib\\\\site-packages\\\\IPython\\\\extensions',\n",
      " 'C:\\\\Users\\\\lizi\\\\.ipython']\n"
     ]
    }
   ],
   "source": [
    "import sys,pprint\n",
    "pprint.pprint(sys.path)#一行无法容纳可使用pprint,sys.path显示搜索路径\n"
   ]
  },
  {
   "cell_type": "code",
   "execution_count": 1,
   "metadata": {},
   "outputs": [
    {
     "ename": "SyntaxError",
     "evalue": "EOL while scanning string literal (<ipython-input-1-20d9854fe847>, line 58)",
     "output_type": "error",
     "traceback": [
      "\u001b[1;36m  File \u001b[1;32m\"<ipython-input-1-20d9854fe847>\"\u001b[1;36m, line \u001b[1;32m58\u001b[0m\n\u001b[1;33m    ''''c:\\\\users\\\\lizi\\\\appdata\\\\local\\\\programs\\\\python\\\\python37\\\\lib\\\\copy.py''''\u001b[0m\n\u001b[1;37m                                                                                     ^\u001b[0m\n\u001b[1;31mSyntaxError\u001b[0m\u001b[1;31m:\u001b[0m EOL while scanning string literal\n"
     ]
    }
   ],
   "source": [
    "import copy\n",
    "[n for n in dir(copy) if not n.startswith('_')]\n",
    "dir(copy)\n",
    "'''\n",
    "['Error',\n",
    " '__all__',\n",
    " '__builtins__',\n",
    " '__cached__',\n",
    " '__doc__',\n",
    " '__file__',\n",
    " '__loader__',\n",
    " '__name__',\n",
    " '__package__',\n",
    " '__spec__',\n",
    " '_copy_dispatch',\n",
    " '_copy_immutable',\n",
    " '_deepcopy_atomic',\n",
    " '_deepcopy_dict',\n",
    " '_deepcopy_dispatch',\n",
    " '_deepcopy_list',\n",
    " '_deepcopy_method',\n",
    " '_deepcopy_tuple',\n",
    " '_keep_alive',\n",
    " '_reconstruct',\n",
    " 'copy',\n",
    " 'deepcopy',\n",
    " 'dispatch_table',\n",
    " 'error']\n",
    "'''\n",
    "copy.__all__#定义模块的公有接口，from copy import *导入的函数\n",
    "dir(copy)\n",
    "help(copy.copy)\n",
    "'''\n",
    "Help on function copy in module copy:\n",
    "\n",
    "copy(x)\n",
    "    Shallow copy operation on arbitrary Python objects.\n",
    "    \n",
    "    See the module's __doc__ string for more info.\n",
    "'''\n",
    "copy.copy.__doc__\n",
    "'''\n",
    "\"Shallow copy operation on arbitrary Python objects.\\n\\n    \n",
    "See the module's __doc__ string for more info.\\n    \"\n",
    "'''\n",
    "print(range.__doc__)\n",
    "'''\n",
    "range(stop) -> range object\n",
    "range(start, stop[, step]) -> range object\n",
    "\n",
    "Return an object that produces a sequence of integers from start (inclusive)\n",
    "to stop (exclusive) by step.  range(i, j) produces i, i+1, i+2, ..., j-1.\n",
    "start defaults to 0, and stop is omitted!  range(4) produces 0, 1, 2, 3.\n",
    "These are exactly the valid indices for a list of 4 elements.\n",
    "When step is given, it specifies the increment (or decrement).\n",
    "'''\n",
    "copy.__file__\n",
    "''''c:\\\\users\\\\lizi\\\\appdata\\\\local\\\\programs\\\\python\\\\python37\\\\lib\\\\copy.py''''\n"
   ]
  },
  {
   "cell_type": "code",
   "execution_count": 9,
   "metadata": {},
   "outputs": [
    {
     "data": {
      "text/plain": [
       "['c:\\\\users\\\\lizi\\\\appdata\\\\local\\\\programs\\\\python\\\\python37\\\\lib\\\\site-packages\\\\ipykernel_launcher.py',\n",
       " '-f',\n",
       " 'C:\\\\Users\\\\lizi\\\\AppData\\\\Roaming\\\\jupyter\\\\runtime\\\\kernel-157df2b3-3f16-486b-be8d-ce8081a91dad.json']"
      ]
     },
     "execution_count": 9,
     "metadata": {},
     "output_type": "execute_result"
    }
   ],
   "source": [
    "import sys\n",
    "sys.argv"
   ]
  },
  {
   "cell_type": "code",
   "execution_count": 22,
   "metadata": {},
   "outputs": [
    {
     "data": {
      "text/plain": [
       "0"
      ]
     },
     "execution_count": 22,
     "metadata": {},
     "output_type": "execute_result"
    }
   ],
   "source": [
    "import os\n",
    "os.environ['PATH']\n",
    "# 启用外部程序\n",
    "# os.system(r'C:\\\"Program Files (x86)\"\\Google\\Chrome\\Application\\chrome.exe')\n",
    "# os.startfile(r'C:\\Program Files (x86)\\Mozilla Firefox\\firefox.exe')\n"
   ]
  },
  {
   "cell_type": "code",
   "execution_count": 48,
   "metadata": {},
   "outputs": [
    {
     "data": {
      "text/plain": [
       "False"
      ]
     },
     "execution_count": 48,
     "metadata": {},
     "output_type": "execute_result"
    }
   ],
   "source": [
    "#集合/堆/双端队列\n",
    "set(range(10))\n",
    "type({})\n",
    "a=set()#空集合\n",
    "a.add(1)\n",
    "a\n",
    "{1,2,3,4,1}#不重复\n",
    "#集合运算\n",
    "a={1,2,3,4}\n",
    "b={2,3,4,5}\n",
    "a.union(b)#{1, 2, 3, 4, 5}\n",
    "a|b#{1, 2, 3, 4, 5}\n",
    "c=a&b#{2, 3, 4}\n",
    "c.issubset(a)\n",
    "c<=a\n",
    "c.issuperset(a)#a是c子集-F\n",
    "c>=a\n",
    "a.intersection(b)#共同元素/交集\n",
    "a&b\n",
    "a.difference(b) #a-b={1}\n",
    "a-b\n",
    "a.symmetric_difference(b)\n",
    "a^b#异或\n",
    "a.copy()\n",
    "a.copy() is a"
   ]
  },
  {
   "cell_type": "code",
   "execution_count": 60,
   "metadata": {},
   "outputs": [
    {
     "data": {
      "text/plain": [
       "[0.5, 1, 5, 3, 2, 7, 9, 8, 4, 6]"
      ]
     },
     "execution_count": 60,
     "metadata": {},
     "output_type": "execute_result"
    }
   ],
   "source": [
    "from heapq import *\n",
    "from random import shuffle\n",
    "data=list(range(10))\n",
    "shuffle(data)\n",
    "heap=[]\n",
    "for n in data:\n",
    "    heappush(heap,n)\n",
    "heap\n",
    "heappush(heap,0.5)\n",
    "heap#[0, 0.5, 1, 4, 3, 6, 2, 9, 8, 7, 5]\n",
    "# heappop(heap)\n",
    "# heappop(heap)\n",
    "heap#[1, 2, 6, 3, 7, 8, 9, 4, 5],巧妙位移\n",
    "heap=[5,8,0,3,6,7,9,1,4,2]\n",
    "heapify(heap)\n",
    "heap#[0, 1, 5, 3, 2, 7, 9, 8, 4, 6]通过执行尽量少的移位操作列表变成合法的堆\n",
    "heapreplace(heap,0.5)\n",
    "heap#[0.5, 1, 5, 3, 2, 7, 9, 8, 4, 6]\n",
    "\n"
   ]
  },
  {
   "cell_type": "code",
   "execution_count": 69,
   "metadata": {},
   "outputs": [
    {
     "data": {
      "text/plain": [
       "time.struct_time(tm_year=2020, tm_mon=10, tm_mday=28, tm_hour=17, tm_min=59, tm_sec=7, tm_wday=2, tm_yday=302, tm_isdst=0)"
      ]
     },
     "execution_count": 69,
     "metadata": {},
     "output_type": "execute_result"
    }
   ],
   "source": [
    "from time import *\n",
    "asctime()#当前时间转换为字符串\n",
    "localtime(time())\n"
   ]
  },
  {
   "cell_type": "code",
   "execution_count": 77,
   "metadata": {},
   "outputs": [
    {
     "data": {
      "text/plain": [
       "'Fri Jan  1 00:00:00 2016'"
      ]
     },
     "execution_count": 77,
     "metadata": {},
     "output_type": "execute_result"
    }
   ],
   "source": [
    "from random import *\n",
    "from time import *\n",
    "date1=(2016,1,1,0,0,0,-1,-1,-1)\n",
    "time1=mktime(date1)\n",
    "date2=(2016,1,1,0,0,0,-1,-1,-1)\n",
    "time2=mktime(date2)\n",
    "random_time=uniform(time1,time2)\n",
    "date3=asctime(localtime(random_time))\n",
    "date3\n"
   ]
  },
  {
   "cell_type": "code",
   "execution_count": 81,
   "metadata": {},
   "outputs": [
    {
     "name": "stdout",
     "output_type": "stream",
     "text": [
      "How many dice? 3\n",
      "How many sides per die? 4\n",
      "the result is  4\n"
     ]
    }
   ],
   "source": [
    "from random import randrange\n",
    "num=int(input('How many dice? '))\n",
    "side=int(input('How many sides per die? '))\n",
    "sum=0\n",
    "for i in range(num):\n",
    "    sum+=randrange(side)+1\n",
    "print('the result is ',sum)"
   ]
  },
  {
   "cell_type": "code",
   "execution_count": 89,
   "metadata": {},
   "outputs": [
    {
     "name": "stdout",
     "output_type": "stream",
     "text": [
      "['1 of diamonds',\n",
      " '1 of clubs',\n",
      " '1 of hearts',\n",
      " '1 of spades',\n",
      " '2 of diamonds',\n",
      " '2 of clubs',\n",
      " '2 of hearts',\n",
      " '2 of spades',\n",
      " '3 of diamonds',\n",
      " '3 of clubs',\n",
      " '3 of hearts',\n",
      " '3 of spades']\n",
      "['Queue of clubs',\n",
      " '8 of spades',\n",
      " '8 of diamonds',\n",
      " '7 of diamonds',\n",
      " '7 of clubs',\n",
      " '1 of spades',\n",
      " '6 of spades',\n",
      " '8 of hearts',\n",
      " '5 of diamonds',\n",
      " 'Jack of diamonds',\n",
      " '2 of spades',\n",
      " '3 of clubs']\n"
     ]
    }
   ],
   "source": [
    "values=list(range(1,11))+'Jack Queue King'.split()\n",
    "# print(values)\n",
    "suits='diamonds clubs hearts spades'.split()\n",
    "deck=['{} of {}'.format(v,s) for v in values for s in suits]\n",
    "from pprint import pprint\n",
    "pprint(deck[:12])#规律卡牌\n",
    "from random import shuffle\n",
    "shuffle(deck)#打乱顺序\n",
    "pprint(deck[:12])\n",
    "# while deck:input(deck.pop())"
   ]
  },
  {
   "cell_type": "code",
   "execution_count": null,
   "metadata": {},
   "outputs": [],
   "source": [
    "import shelve\n",
    "s=shelve.open('test.dat',writeback=True)#从shelf对象读取或赋值的数据结构都将保存到内存\n",
    "s['x']=['a','b','c']\n",
    "s['x'].append('d')\n",
    "s['x']"
   ]
  },
  {
   "cell_type": "code",
   "execution_count": 1,
   "metadata": {},
   "outputs": [
    {
     "name": "stdout",
     "output_type": "stream",
     "text": [
      "Enter command(?for help): quit\n"
     ]
    }
   ],
   "source": [
    "#数据库应用实例\n",
    "#datebase.py\n",
    "import sys,shelve\n",
    "def store_person(db):\n",
    "    '''将用户输入数据存入shelf对象'''\n",
    "    pid=input('Enter unique ID number: ')\n",
    "    person={}\n",
    "    person['name']=input('Enter name: ')\n",
    "    person['age']=input('Enter age: ')\n",
    "    person['phone']=input('Enter phone number: ')\n",
    "    db[pid]=person\n",
    "\n",
    "def lookup_person(db):\n",
    "    pid=input('Enter unique ID number: ')\n",
    "    field=input('What would you like to know?(name,age,phone) ')\n",
    "    field=field.strip().lower()\n",
    "    print(field.capitalize()+':',db[pid][field])#字符串第一个字母大写，其他小写\n",
    "    \n",
    "    \n",
    "def enter_command():\n",
    "    cmd=input('Enter command(?for help): ')\n",
    "    cmd=cmd.strip().lower()\n",
    "    return cmd\n",
    "\n",
    "def main():\n",
    "    datebase=shelve.open('datebase.dat')\n",
    "    try:\n",
    "        while True:\n",
    "            cmd=enter_command()\n",
    "            if cmd=='store':\n",
    "                store_person(datebase)\n",
    "            elif cmd=='lookup':\n",
    "                lookup_person(datebase)\n",
    "            elif cmd=='quit':\n",
    "                return \n",
    "    finally:\n",
    "        datebase.close()\n",
    "if __name__=='__main__':\n",
    "    main()\n",
    "    "
   ]
  },
  {
   "cell_type": "code",
   "execution_count": 27,
   "metadata": {},
   "outputs": [
    {
     "data": {
      "text/plain": [
       "'But\\\\ where\\\\ is\\\\ your\\\\ pen\\\\?'"
      ]
     },
     "execution_count": 27,
     "metadata": {},
     "output_type": "execute_result"
    }
   ],
   "source": [
    "import re\n",
    "#match从开头匹配\n",
    "re.match('p','python')#<re.Match object; span=(0, 1), match='p'>\n",
    "re.match('p','www.python')#None\n",
    "\n",
    "#split分割字符串\n",
    "text='alpha, beta,,,,,,,gamma       datta'\n",
    "re.split('[,]+',text)\n",
    "re.split('o(o)','foobar')#模式包含（）则在分割得到的字串间插入括号中的内容\n",
    "\n",
    "re.split('[,]+',text,maxsplit=1)#指定最大分割次数\n",
    "\n",
    "#findall返回所有匹配子串\n",
    "pat='[a-zA-Z]+'\n",
    "text1='\"Hm... Err -- are you sure?\" he said, sounding insecure.'\n",
    "re.findall(pat,text1)\n",
    "pat1=r'[,.?\"-]+'\n",
    "re.findall(pat1,text1)\n",
    "\n",
    "#sub从左往右替换\n",
    "pat2='{name}'\n",
    "text2='Dear {name}...'\n",
    "re.sub(pat2,'Mr Gumby',text2)\n",
    "\n",
    "\n",
    "#escape\n",
    "re.escape('www.python.org')\n",
    "re.escape('But where is your pen?')"
   ]
  },
  {
   "cell_type": "code",
   "execution_count": 40,
   "metadata": {},
   "outputs": [
    {
     "data": {
      "text/plain": [
       "'<em>this<em> is <em>it<em>!'"
      ]
     },
     "execution_count": 40,
     "metadata": {},
     "output_type": "execute_result"
    }
   ],
   "source": [
    "r'www\\.(.+)\\.com$'\n",
    "# 0--整个字符串\n",
    "# 1--www和.com之间\n",
    "m=re.match(r'www\\.(.*)\\..{3}','www.python.org')\n",
    "m.group(1)#'python'\n",
    "m.start(1)\n",
    "m.end(1)\n",
    "m.span(1)#起始终止位置\n",
    "\n",
    "#替换\n",
    "emp_pat=r'\\*([^\\*]+)\\*'#起始结束是*，匹配到后，除*都匹配\n",
    "#[^]和^[]不同，前者表非后者表开始\n",
    "re.sub(emp_pat,r'<em>\\1<em>','hello, *world*!')\n",
    "\n",
    "\n",
    "#贪婪非贪婪，重复匹配默认贪婪，?非贪婪\n",
    "emp_pat1=r'\\*(.+)\\*'\n",
    "re.sub(emp_pat1,r'<em>\\1<em>','*this* is *it*!')\n",
    "#'<em>this* is *it<em>!'匹配到的内容是this-it\n",
    "emp_pat2=r'\\*(.+?)\\*'\n",
    "re.sub(emp_pat2,r'<em>\\1<em>','*this* is *it*!')#匹配到this,it\n",
    "#+?匹配一个或多个，但尽可能少\n",
    "\n"
   ]
  },
  {
   "cell_type": "code",
   "execution_count": 24,
   "metadata": {},
   "outputs": [
    {
     "data": {
      "text/plain": [
       "['Foo Fie ']"
      ]
     },
     "execution_count": 24,
     "metadata": {},
     "output_type": "execute_result"
    }
   ],
   "source": [
    "import re\n",
    "#寻找发件人\n",
    "\n",
    "#邮件头\n",
    "mhead='''\n",
    "From foo@bar.baz Thu Dec 20 01:22:50 2008\n",
    "Return-Path: <foo@bar.baz>\n",
    "Received: from xyzzy42.bar.com (xyzzy.bar.baz [123.456.789.42])\n",
    "by frozz.bozz.floop (8.9.3/8.9.3) with ESMTP id BAA25436\n",
    "for <magnus@bozz.floop>; Thu, 20 Dec 2004 01:22:50 +0100 (MET)\n",
    "Received: from [43.253.124.23] by bar.baz\n",
    "(InterMail vM.4.01.03.27 201-229-121-127-20010626) with ESMTP\n",
    "id <20041220002242.ADASD123.bar.baz@[43.253.124.23]>; Thu, 20 Dec 2004 00:22:42 +0000\n",
    "User-Agent: Microsoft-Outlook-Express-Macintosh-Edition/5.02.2022\n",
    "Date: Wed, 19 Dec 2008 17:22:42 -0700\n",
    "Subject: Re: Spam\n",
    "From: Foo Fie <foo@bar.baz>\n",
    "To: Magnus Lie Hetland <magnus@bozz.floop>\n",
    "CC: <Mr.Gumby@bar.baz>\n",
    "Message-ID: <B8467D62.84F%foo@baz.com>\n",
    "In-Reply-To: <20041219013308.A2655@bozz.floop> Mime- version: 1.0\n",
    "Content-type: text/plain; charset=\"US-ASCII\" Content-transfer-encoding: 7bit\n",
    "Status: RO\n",
    "Content-Length: 55\n",
    "Lines: 6\n",
    "So long, and thanks for all the spam!\n",
    "Yours,\n",
    "Foo Fie\n",
    "'''\n",
    "#以From:开头包含<>\n",
    "\n",
    "# pat=re.compile('From: (.*)<.*?>$')\n",
    "# for line in fileinput.input():\n",
    "#     m=pat.match(line)\n",
    "#     if m: print(m.group(1))\n",
    "pat=re.findall('From: (.*)<.*?>$',mhead,re.M)#多行匹配\n",
    "pat\n",
    "# pat=re.compile('From: (.*)<.*?>$',re.M)\n",
    "# nums = pat.findall(mhead)\n",
    "# nums\n",
    "\n",
    "\n",
    "\n"
   ]
  },
  {
   "cell_type": "code",
   "execution_count": null,
   "metadata": {},
   "outputs": [],
   "source": [
    "#模板系统\n",
    "'''\n",
    "假设要把所有的'[something]'（字段）都替换为将something\n",
    "作为Python表达式计算得到的结果。因此，下面的字符串：\n",
    "'The sum of 7 and 9 is [7 + 9].'\n",
    "应转换为：\n",
    "'The sum of 7 and 9 is 16.'\n",
    "另外，你还希望能够在字段中进行赋值，使得下面的字符串：\n",
    "'[name=\"Mr. Gumby\"]Hello, [name]'\n",
    "转换成：\n",
    "'Hello, Mr. Gumby'\n",
    "'''\n"
   ]
  }
 ],
 "metadata": {
  "kernelspec": {
   "display_name": "Python 3",
   "language": "python",
   "name": "python3"
  },
  "language_info": {
   "codemirror_mode": {
    "name": "ipython",
    "version": 3
   },
   "file_extension": ".py",
   "mimetype": "text/x-python",
   "name": "python",
   "nbconvert_exporter": "python",
   "pygments_lexer": "ipython3",
   "version": "3.7.0"
  }
 },
 "nbformat": 4,
 "nbformat_minor": 4
}
