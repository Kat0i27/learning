{
 "cells": [
  {
   "cell_type": "markdown",
   "metadata": {},
   "source": [
    "[sqlite教程](https://www.runoob.com/sqlite/sqlite-tutorial.html)\n",
    "# 数据库支持\n",
    "\n",
    "## py数据库API\n",
    "\n",
    "### 全局变量\n",
    "\n",
    "1. apilevel-数据库API版本，字符串常量\n",
    "2. threadsafety-线程安全程度，0-3\n",
    "3. paramstyle-SQL查询参数风格\n",
    "\n",
    "### 异常\n",
    "\n",
    "StandardError 所有异常的超类\n",
    "Warning StandardError 发生非致命问题时引发\n",
    "Error StandardError 所有错误条件的超类\n",
    "InterfaceError Error 与接口（而不是数据库）相关的错误\n",
    "DatabaseError Error 与数据库相关的错误的超类\n",
    "DataError DatabaseError 与数据相关的问题，如值不在合法的范围内\n",
    "OperationalError DatabaseError 数据库操作内部的错误\n",
    "IntegrityError DatabaseError 关系完整性遭到破坏，如键未通过检查\n",
    "InternalError DatabaseError 数据库内部的错误，如游标无效\n",
    "ProgrammingError DatabaseError 用户编程错误，如未找到数据库表\n",
    "NotSupportedError DatabaseError 请求不支持的功能，如回滚\n",
    "\n",
    "### 连接和游标\n",
    "\n",
    "connect函数\n",
    "\n",
    "```\n",
    "dsn 数据源名称，具体含义随数据库而异 否\n",
    "user 用户名 是\n",
    "password 用户密码 是\n",
    "host 主机名 是\n",
    "database 数据库名称 是\n",
    "```\n",
    "\n",
    "连接后方法\n",
    "\n",
    "```\n",
    "close() 关闭连接对象。之后，连接对象及其游标将不可用\n",
    "commit() 提交未提交的事务——如果支持的话；否则什么都不做\n",
    "rollback() 回滚未提交的事务（可能不可用）\n",
    "cursor() 返回连接的游标对象\n",
    "```\n",
    "\n",
    "更新和删除后需要提交，查询和新建不需要\n",
    "\n",
    "游标对象cursor()\n",
    "\n",
    "```\n",
    "callproc(name[, params]) 使用指定的参数调用指定的数据库过程（可选）\n",
    "close() 关闭游标。关闭后游标不可用\n",
    "execute(oper[, params]) 执行一个SQL操作——可能指定参数\n",
    "executemany(oper, pseq) 执行指定的SQL操作多次，每次都序列中的一组参数\n",
    "fetchone() 以序列的方式取回查询结果中的下一行；如果没有更多的行，就返回None\n",
    "fetchmany([size]) 取回查询结果中的多行，其中参数size的值默认为arraysize\n",
    "fetchall() 以序列的序列的方式取回余下的所有行\n",
    "nextset() 跳到下一个结果集，这个方法是可选的\n",
    "setinputsizes(sizes) 用于为参数预定义内存区域\n",
    "setoutputsize(size[, col]) 为取回大量数据而设置缓冲区长度\n",
    "```\n",
    "\n",
    "一些类型\n",
    "\n",
    "## SQLite与PySQLite\n",
    "\n",
    "数据库引擎\n",
    "\n",
    "sqlite3\n"
   ]
  },
  {
   "cell_type": "code",
   "execution_count": 4,
   "metadata": {},
   "outputs": [],
   "source": [
    "# SQLite连接数据库\n",
    "import sqlite3\n",
    "conn=sqlite3.connect('b_comm.db')\n",
    "curs=conn.cursor()\n",
    "conn.commit()\n",
    "conn.close()"
   ]
  },
  {
   "cell_type": "code",
   "execution_count": 13,
   "metadata": {},
   "outputs": [
    {
     "name": "stdout",
     "output_type": "stream",
     "text": [
      "Opened database successfully\n"
     ]
    },
    {
     "ename": "OperationalError",
     "evalue": "table COMPANY already exists",
     "output_type": "error",
     "traceback": [
      "\u001b[1;31m---------------------------------------------------------------------------\u001b[0m",
      "\u001b[1;31mOperationalError\u001b[0m                          Traceback (most recent call last)",
      "\u001b[1;32m<ipython-input-13-67d536657ce3>\u001b[0m in \u001b[0;36m<module>\u001b[1;34m\u001b[0m\n\u001b[0;32m      9\u001b[0m        \u001b[0mAGE\u001b[0m            \u001b[0mINT\u001b[0m     \u001b[0mNOT\u001b[0m \u001b[0mNULL\u001b[0m\u001b[1;33m,\u001b[0m\u001b[1;33m\u001b[0m\u001b[0m\n\u001b[0;32m     10\u001b[0m        \u001b[0mADDRESS\u001b[0m        \u001b[0mCHAR\u001b[0m\u001b[1;33m(\u001b[0m\u001b[1;36m50\u001b[0m\u001b[1;33m)\u001b[0m\u001b[1;33m,\u001b[0m\u001b[1;33m\u001b[0m\u001b[0m\n\u001b[1;32m---> 11\u001b[1;33m        SALARY         REAL);''')\n\u001b[0m\u001b[0;32m     12\u001b[0m \u001b[0mprint\u001b[0m\u001b[1;33m(\u001b[0m\u001b[1;34m\"Table created successfully\"\u001b[0m\u001b[1;33m)\u001b[0m\u001b[1;33m\u001b[0m\u001b[0m\n\u001b[0;32m     13\u001b[0m \u001b[0mconn\u001b[0m\u001b[1;33m.\u001b[0m\u001b[0mcommit\u001b[0m\u001b[1;33m(\u001b[0m\u001b[1;33m)\u001b[0m\u001b[1;33m\u001b[0m\u001b[0m\n",
      "\u001b[1;31mOperationalError\u001b[0m: table COMPANY already exists"
     ]
    }
   ],
   "source": [
    "import sqlite3#建表\n",
    "\n",
    "conn = sqlite3.connect('test.db')\n",
    "print(\"Opened database successfully\")\n",
    "c = conn.cursor()\n",
    "c.execute('''CREATE TABLE COMPANY\n",
    "       (ID INT PRIMARY KEY     NOT NULL,\n",
    "       NAME           TEXT    NOT NULL,\n",
    "       AGE            INT     NOT NULL,\n",
    "       ADDRESS        CHAR(50),\n",
    "       SALARY         REAL);''')\n",
    "print(\"Table created successfully\")\n",
    "conn.commit()\n",
    "conn.close()"
   ]
  },
  {
   "cell_type": "code",
   "execution_count": 15,
   "metadata": {},
   "outputs": [
    {
     "name": "stdout",
     "output_type": "stream",
     "text": [
      "Opened database successfully\n",
      "Records created successfully\n"
     ]
    }
   ],
   "source": [
    "#!/usr/bin/python\n",
    "#插入数据\n",
    "\n",
    "import sqlite3\n",
    "\n",
    "conn = sqlite3.connect('test.db')\n",
    "c = conn.cursor()\n",
    "print(\"Opened database successfully\")\n",
    "\n",
    "c.execute(\"INSERT INTO COMPANY (ID,NAME,AGE,ADDRESS,SALARY) \\\n",
    "      VALUES (1, 'Paul', 32, 'California', 20000.00 )\")\n",
    "\n",
    "c.execute(\"INSERT INTO COMPANY (ID,NAME,AGE,ADDRESS,SALARY) \\\n",
    "      VALUES (2, 'Allen', 25, 'Texas', 15000.00 )\")\n",
    "\n",
    "c.execute(\"INSERT INTO COMPANY (ID,NAME,AGE,ADDRESS,SALARY) \\\n",
    "      VALUES (3, 'Teddy', 23, 'Norway', 20000.00 )\")\n",
    "\n",
    "c.execute(\"INSERT INTO COMPANY (ID,NAME,AGE,ADDRESS,SALARY) \\\n",
    "      VALUES (4, 'Mark', 25, 'Rich-Mond ', 65000.00 )\")\n",
    "\n",
    "conn.commit()\n",
    "print(\"Records created successfully\")\n",
    "conn.close()"
   ]
  },
  {
   "cell_type": "code",
   "execution_count": 18,
   "metadata": {},
   "outputs": [
    {
     "name": "stdout",
     "output_type": "stream",
     "text": [
      "Opened database successfully\n",
      "(1, 'Paul', 32, 'California', 20000.0)\n",
      "(2, 'Allen', 25, 'Texas', 15000.0)\n",
      "(3, 'Teddy', 23, 'Norway', 20000.0)\n",
      "(4, 'Mark', 25, 'Rich-Mond ', 65000.0)\n",
      "Operation done successfully\n"
     ]
    }
   ],
   "source": [
    "conn=sqlite3.connect('test.db')#select\n",
    "c=conn.cursor()\n",
    "print(\"Opened database successfully\")\n",
    "data=c.execute(\"select * from COMPANY\")\n",
    "for i in data:\n",
    "    print(i)\n",
    "print(\"Operation done successfully\")\n",
    "c.close()\n"
   ]
  },
  {
   "cell_type": "code",
   "execution_count": 22,
   "metadata": {},
   "outputs": [
    {
     "name": "stdout",
     "output_type": "stream",
     "text": [
      "Total number of rows updated : 1\n",
      "ID =  1\n",
      "NAME =  Paul\n",
      "ADDRESS =  California\n",
      "SALARY =  25000.0 \n",
      "\n",
      "ID =  2\n",
      "NAME =  Allen\n",
      "ADDRESS =  Texas\n",
      "SALARY =  15000.0 \n",
      "\n",
      "ID =  3\n",
      "NAME =  Teddy\n",
      "ADDRESS =  Norway\n",
      "SALARY =  20000.0 \n",
      "\n",
      "ID =  4\n",
      "NAME =  Mark\n",
      "ADDRESS =  Rich-Mond \n",
      "SALARY =  65000.0 \n",
      "\n"
     ]
    }
   ],
   "source": [
    "#update\n",
    "#!/usr/bin/python\n",
    "\n",
    "import sqlite3\n",
    "\n",
    "conn = sqlite3.connect('test.db')\n",
    "c = conn.cursor()\n",
    "# print \"Opened database successfully\"\n",
    "\n",
    "c.execute(\"UPDATE COMPANY set SALARY = 25000.00 where ID=1\")\n",
    "conn.commit()#更新后提交\n",
    "print(\"Total number of rows updated :\", conn.total_changes)\n",
    "\n",
    "cursor = conn.execute(\"SELECT id, name, address, salary  from COMPANY\")\n",
    "for row in cursor:\n",
    "   print(\"ID = \", row[0])\n",
    "   print(\"NAME = \", row[1])\n",
    "   print(\"ADDRESS = \", row[2])\n",
    "   print (\"SALARY = \", row[3], \"\\n\")\n",
    "\n",
    "# print \"Operation done successfully\"\n",
    "conn.close()"
   ]
  },
  {
   "cell_type": "code",
   "execution_count": 23,
   "metadata": {},
   "outputs": [
    {
     "name": "stdout",
     "output_type": "stream",
     "text": [
      "Total number of rows deleted : 1\n",
      "ID =  1\n",
      "NAME =  Paul\n",
      "ADDRESS =  California\n",
      "SALARY =  25000.0 \n",
      "\n",
      "ID =  3\n",
      "NAME =  Teddy\n",
      "ADDRESS =  Norway\n",
      "SALARY =  20000.0 \n",
      "\n",
      "ID =  4\n",
      "NAME =  Mark\n",
      "ADDRESS =  Rich-Mond \n",
      "SALARY =  65000.0 \n",
      "\n"
     ]
    }
   ],
   "source": [
    "#!/usr/bin/python\n",
    "#delete\n",
    "import sqlite3\n",
    "\n",
    "conn = sqlite3.connect('test.db')\n",
    "c = conn.cursor()\n",
    "# print \"Opened database successfully\"\n",
    "\n",
    "c.execute(\"DELETE from COMPANY where ID=2;\")\n",
    "conn.commit()\n",
    "print(\"Total number of rows deleted :\", conn.total_changes)\n",
    "\n",
    "cursor = conn.execute(\"SELECT id, name, address, salary  from COMPANY\")\n",
    "for row in cursor:\n",
    "   print(\"ID = \", row[0])\n",
    "   print(\"NAME = \", row[1])\n",
    "   print(\"ADDRESS = \", row[2])\n",
    "   print(\"SALARY = \", row[3], \"\\n\")\n",
    "\n",
    "# print \"Operation done successfully\"\n",
    "conn.close()"
   ]
  }
 ],
 "metadata": {
  "kernelspec": {
   "display_name": "Python 3",
   "language": "python",
   "name": "python3"
  },
  "language_info": {
   "codemirror_mode": {
    "name": "ipython",
    "version": 3
   },
   "file_extension": ".py",
   "mimetype": "text/x-python",
   "name": "python",
   "nbconvert_exporter": "python",
   "pygments_lexer": "ipython3",
   "version": "3.7.0"
  }
 },
 "nbformat": 4,
 "nbformat_minor": 4
}
