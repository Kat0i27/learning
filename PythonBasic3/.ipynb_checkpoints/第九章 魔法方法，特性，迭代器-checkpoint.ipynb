{
 "cells": [
  {
   "cell_type": "markdown",
   "metadata": {},
   "source": [
    "## 魔法方法\n",
    "\n",
    "### 构造函数\n",
    "\n",
    "- \\__init__\n",
    "\n",
    "- 继承-重写：构造方法\n",
    "\n",
    "  子类无法直接调用超类的构造方法，解决方法：1.调用未关联的超类构造函数，2.**使用super函数**（推荐）\n",
    "\n",
    "- super().\\__init__()\n",
    "\n",
    "  优点：直观，即便有多个超类，只需调用一次\n",
    "\n",
    "  super()返回一个super对象，负责执行方法解析。当访问属性时，将在所有的超类中查找，直到找到指定的属性或英法Attribution异常\n",
    "\n",
    "### 元素访问\n",
    "\n",
    "#### 基本的序列和映射协议\n",
    "\n",
    "- \\__len__(self)\n",
    "- \\__getitem__(self,key)\n",
    "- \\__setitem__(self,key,vlaue)\n",
    "- \\__delitem__(self,key)\n",
    "\n",
    "若自定义序列或映射需编写上述协议，可从list和dict派生\n",
    "\n",
    "### 从list,dict,str派生\n",
    "\n",
    "依赖超类行为，织田家必要性为\n",
    "\n",
    "## 特性\n",
    "\n",
    "### 存取方法\n",
    "\n",
    "get_xxx和set_Xxx\n",
    "\n",
    "- 函数property\n",
    "\n",
    "  property(get,set,[del可选],[指定一个文档字符串])，fget/fset/fdel/doc\n",
    "\n",
    "### 静态方法和类方法\n",
    "\n",
    "- 静态方法staticmethod\n",
    "\n",
    "- 类方法classmethod\n",
    "\n",
    "- 装饰器@staticmethod,@classmethod\n",
    "\n",
    "  包装方法/任何可调用方法\n",
    "\n",
    "  指定多个装饰器时，应用顺序与列出顺序相反\n",
    "\n",
    "- 可直接调用\n",
    "\n",
    "### \\__getattr__,\\_\\_setattr\\_\\_方法\n",
    "\n",
    "- getattr:属性被访问但对象没有该属性则自动调用\n",
    "- getattribute:属性被访问时自动调用\n",
    "- setattr:试图赋值时自动调用\n",
    "- delattr:试图删除属性时自动调用\n",
    "\n",
    "## 迭代器\n",
    "\n",
    "\\__iter__（返回self）,\\_\\_next\\_\\_ (内含迭代公式),StopIteration异常\n",
    "\n",
    "next(it)==it.\\__next__()\n",
    "\n",
    "迭代器-惰性计算，列表-全部计算\n",
    "\n",
    "迭代器中实现\\__iter__方法后就可以在for循环中使用，实现了\\_\\_iter\\_\\_的对象是可迭代的，实现了\\_\\_next()\\_\\_的对象是迭代器\n",
    "\n",
    "list(迭代器)得到序列，iter(序列)得到迭代器\n",
    "\n",
    "## 生成器\n",
    "\n",
    "包含yield语句的函数被称为生成器，被调用时返回一个迭代器，每次请求值时都执行生成器的代码，知道遇到yield或return\n",
    "\n",
    "### 组成\n",
    "\n",
    "- 生成器的函数--def\n",
    "- 生成器的迭代器--函数返回的结果\n",
    "\n",
    "生成器不是使用return返回一个值，而是可以生成多个值，每次一个。每次使用yield生成一个值后函数将冻结，即停止执行，等待被唤醒后继续执行。\n",
    "\n",
    "## 例子\n",
    "\n",
    "#### 两层嵌套\n",
    "\n",
    "#### 多层-递归\n",
    "\n",
    "- 基线条件\n",
    "\n",
    "  展开单个元素，for循环TypeError,一个数不能迭代\n",
    "\n",
    "- 递归条件\n",
    "\n",
    "  展开列表，遍历所有子列表，然后遍历子列表中的元素\n",
    "\n",
    "### 生成器的方法\n",
    "\n",
    "- send\n",
    "\n",
    "  初次向生成器提供信息可使用参数，之后需使用send\n",
    "  next只能触发，不能修改参数，重新运行时将返回None\n",
    "\n",
    "- throw\n",
    "\n",
    "  引发异常\n",
    "\n",
    "- close\n",
    "\n",
    "  停止生成器\n",
    "\n",
    "## 八皇后问题\n",
    "\n"
   ]
  },
  {
   "cell_type": "code",
   "execution_count": 8,
   "metadata": {},
   "outputs": [
    {
     "name": "stdout",
     "output_type": "stream",
     "text": [
      "Aaaah\n",
      "No, thanks!\n",
      "Squawk!\n",
      "Aaaah\n"
     ]
    }
   ],
   "source": [
    "#构造函数__init__\n",
    "class FooBar:\n",
    "    def __init__(self,value=42):\n",
    "        self.somevar=value\n",
    "\n",
    "f=FooBar()\n",
    "f.somevar\n",
    "f1=FooBar(\"this ia a constructor argument\")\n",
    "f1.somevar\n",
    "\n",
    "class Bird:\n",
    "    def __init__(self):\n",
    "        self.hungry=True\n",
    "    def eat(self):\n",
    "        if self.hungry:\n",
    "            print('Aaaah')\n",
    "            self.hungry=False\n",
    "        else:\n",
    "            print('No, thanks!')\n",
    "\n",
    "b=Bird()\n",
    "b.eat()\n",
    "b.eat()\n",
    "\n",
    "class SongBird(Bird):\n",
    "    def __init__(self):\n",
    "        Bird.__init__(self)#对实例调用方法时，方法参数self将自动关联到实例。\n",
    "                           #通过将未关联方法的self参数设置为当前实例，将使用超类的构造函数初始化SongBird对象\n",
    "        self.sound='Squawk!'\n",
    "    def sing(self):\n",
    "        print(self.sound)\n",
    "sb=SongBird()\n",
    "sb.sing()\n",
    "sb.eat()"
   ]
  },
  {
   "cell_type": "code",
   "execution_count": 11,
   "metadata": {},
   "outputs": [
    {
     "name": "stdout",
     "output_type": "stream",
     "text": [
      "Squawk!\n",
      "Aaaah\n"
     ]
    }
   ],
   "source": [
    "class Bird:\n",
    "    def __init__(self):\n",
    "        self.hungry=True\n",
    "    def eat(self):\n",
    "        if self.hungry:\n",
    "            print('Aaaah')\n",
    "            self.hungry=False\n",
    "        else:\n",
    "            print('No, thanks!')\n",
    "\n",
    "class SongBird(Bird):\n",
    "    def __init__(self):\n",
    "        super().__init__()\n",
    "        self.sound='Squawk!'\n",
    "    def sing(self):\n",
    "        print(self.sound)\n",
    "\n",
    "sb=SongBird()\n",
    "sb.sing()\n",
    "sb.eat()"
   ]
  },
  {
   "cell_type": "code",
   "execution_count": 22,
   "metadata": {},
   "outputs": [
    {
     "data": {
      "text/plain": [
       "{4: 5}"
      ]
     },
     "execution_count": 22,
     "metadata": {},
     "output_type": "execute_result"
    }
   ],
   "source": [
    "#### 一个无穷序列\n",
    "def check_index(key):\n",
    "    \"\"\"\n",
    "    指定的键是否是可接受的索引？\n",
    "    键是非负整数，若不是整数-TypeError异常\n",
    "                若是负数-IndexError异常\n",
    "    \"\"\"\n",
    "    if not isinstance(key,int): raise TypeError\n",
    "    if key<0: raise IndexError\n",
    "\n",
    "class ArithmeticSequence:\n",
    "    def __init__(self,start=0,step=1):\n",
    "        \"\"\"\n",
    "        初始化序列\n",
    "        start-\n",
    "        step-\n",
    "        change-一个字典，包含用户修改后的值\n",
    "        \n",
    "        \"\"\"\n",
    "        self.start=start\n",
    "        self.step=step\n",
    "        self.change={}\n",
    "    def __getitem__(self,key):\n",
    "        check_index(key)\n",
    "        try:\n",
    "            return self.change[key]#修改过？\n",
    "        except KeyError:#未修改\n",
    "            return self.start+key*self.step\n",
    "    def __setitem__(self,key,value):\n",
    "        check_index(key)\n",
    "        self.change[key]=value\n",
    "    \n",
    "s=ArithmeticSequence(1,2)\n",
    "s[4]\n",
    "s[4]=5\n",
    "s[4]\n",
    "s[6]\n",
    "s[5]\n",
    "s[3]\n",
    "s.change\n",
    "#禁止删除元素，故不实现__del__\n",
    "#长度无穷，故__len__不存在\n"
   ]
  },
  {
   "cell_type": "code",
   "execution_count": 32,
   "metadata": {},
   "outputs": [
    {
     "data": {
      "text/plain": [
       "2"
      ]
     },
     "execution_count": 32,
     "metadata": {},
     "output_type": "execute_result"
    }
   ],
   "source": [
    "class CountList(list):\n",
    "    def __init__(self,*args):\n",
    "        super().__init__(*args)\n",
    "        self.counter=0\n",
    "    \n",
    "    def __getitem__(self,index):\n",
    "        self.counter+=1#访问元素则计数\n",
    "        return super(CountList,self).__getitem__(index)\n",
    "\n",
    "cl=CountList(range(10))\n",
    "cl\n",
    "cl.reverse()\n",
    "cl\n",
    "del cl[3:5]\n",
    "cl\n",
    "cl.counter\n",
    "cl[4]+cl[2]\n",
    "cl.counter"
   ]
  },
  {
   "cell_type": "code",
   "execution_count": 36,
   "metadata": {},
   "outputs": [
    {
     "data": {
      "text/plain": [
       "150"
      ]
     },
     "execution_count": 36,
     "metadata": {},
     "output_type": "execute_result"
    }
   ],
   "source": [
    "class Rectangle:\n",
    "    def __init__(self):\n",
    "        self.width=0\n",
    "        self.height=0\n",
    "    def set_size(self,size):\n",
    "        self.width,self.height=size\n",
    "    def get_size(self):\n",
    "        return self.width,self.height\n",
    "    size=property(get_size,set_size)#创建特性，关联到size\n",
    "    \n",
    "    \n",
    "r=Rectangle()\n",
    "r.width,r.height=10,5\n",
    "r.size\n",
    "r.size=150,100\n",
    "r.width"
   ]
  },
  {
   "cell_type": "code",
   "execution_count": 39,
   "metadata": {},
   "outputs": [
    {
     "name": "stdout",
     "output_type": "stream",
     "text": [
      "This is a static method\n",
      "this is a class method <class '__main__.Myclass'>\n"
     ]
    }
   ],
   "source": [
    "# class Myclass:\n",
    "#     def smeth():\n",
    "#         print('This is a static method')\n",
    "#     smeth=staticmethod(smeth)\n",
    "    \n",
    "#     def cmeth(cls):\n",
    "#         print('this is a class method',cls)\n",
    "#     cmeth=classmethod(cmeth)\n",
    "    \n",
    "    \n",
    "class Myclass:\n",
    "    @staticmethod\n",
    "    def smeth():\n",
    "        print('This is a static method')\n",
    "\n",
    "    @classmethod\n",
    "    def cmeth(cls):\n",
    "        print('this is a class method',cls)\n",
    "Myclass.smeth()\n",
    "Myclass.cmeth()"
   ]
  },
  {
   "cell_type": "code",
   "execution_count": 41,
   "metadata": {},
   "outputs": [],
   "source": [
    "# 访问拦截\n",
    "class Rectangle:\n",
    "    def __init__(self):\n",
    "        self.width=0\n",
    "        slef.height=0\n",
    "    def __setattr__(self,name,value):\n",
    "        if name=='size':\n",
    "            self.width,self.height=value\n",
    "        else:\n",
    "            self.__dict__[name]=value\n",
    "    def __getattr__(self,name):\n",
    "        if name=='size':\n",
    "            return self.width,self.height\n",
    "        else:\n",
    "            raise AttributeError()"
   ]
  },
  {
   "cell_type": "code",
   "execution_count": 51,
   "metadata": {},
   "outputs": [
    {
     "name": "stdout",
     "output_type": "stream",
     "text": [
      "1597\n"
     ]
    },
    {
     "data": {
      "text/plain": [
       "[1, 2, 3, 4, 5, 6, 7, 8, 9, 10]"
      ]
     },
     "execution_count": 51,
     "metadata": {},
     "output_type": "execute_result"
    }
   ],
   "source": [
    "#迭代器\n",
    "class Fibs:\n",
    "    def __init__(self):\n",
    "        self.a=0\n",
    "        self.b=1\n",
    "    def __next__(self):\n",
    "        self.a,self.b=self.b,self.a+self.b\n",
    "        return self.a\n",
    "    def __iter__(self):\n",
    "        return self\n",
    "\n",
    "fibs=Fibs()\n",
    "for f in fibs:\n",
    "    if f>1000:\n",
    "        print(f)\n",
    "        break\n",
    "\n",
    "it=iter([1,2,3])#对可迭代对象调用内置函数iter可获得一个迭代器\n",
    "next(it)\n",
    "next(it)\n",
    "next(it)\n",
    "\n",
    "#从迭代器下创建序列\n",
    "class TestIterator:\n",
    "    value=0\n",
    "    def __next__(self):\n",
    "        self.value+=1\n",
    "        if self.value>10: raise StopIteration\n",
    "        return self.value\n",
    "    def __iter__(self):\n",
    "        return self\n",
    "ti=TestIterator()\n",
    "list(ti)"
   ]
  },
  {
   "cell_type": "code",
   "execution_count": 73,
   "metadata": {},
   "outputs": [
    {
     "name": "stdout",
     "output_type": "stream",
     "text": [
      "1\n",
      "2\n",
      "3\n",
      "4\n",
      "5\n"
     ]
    }
   ],
   "source": [
    "#创建生成器\n",
    "def flatten(nested):#只能处理两层嵌套\n",
    "    for sublist in nested:\n",
    "        for element in sublist:\n",
    "            yield element\n",
    "nested=[[1,2],[3,4],[5]]\n",
    "for num in flatten(nested):\n",
    "    print(num)\n",
    "\n",
    "#生成器推导\n",
    "g=((i+2)**2 for i in range(2,27))\n",
    "next(g)\n",
    "next(g)\n",
    "sum((i+2)**2 for i in range(2,27))\n",
    "\n",
    "#递归式生成器,处理多层嵌套\n",
    "def flatten1(nested):\n",
    "    try:\n",
    "        for sublist in nested:\n",
    "            for element in flatten1(sublist):\n",
    "                yield element\n",
    "    except TypeError:\n",
    "        yield nested\n",
    "    \n",
    "list(flatten1([[1],2,3,4,[5,[6,7,],8]]))\n",
    "\n",
    "#对于字符串\n",
    "def flatten1(nested):\n",
    "    try:\n",
    "        try:\n",
    "            '''不迭代类似字符串的对象'''\n",
    "            nested+''#是字符串\n",
    "        except TypeError:pass#引发异常证明不是字符串\n",
    "        else:raise TypeError#引发异常TypeError,外部except输出字符串\n",
    "        for sublist in nested:\n",
    "            for element in flatten1(sublist):\n",
    "                yield element\n",
    "    except TypeError:\n",
    "        yield nested"
   ]
  },
  {
   "cell_type": "code",
   "execution_count": 98,
   "metadata": {},
   "outputs": [
    {
     "data": {
      "text/plain": [
       "42"
      ]
     },
     "execution_count": 98,
     "metadata": {},
     "output_type": "execute_result"
    }
   ],
   "source": [
    "#生成器的方法send\n",
    "def repeater(value):\n",
    "    while True:\n",
    "        new=(yield value)\n",
    "        if new is not None:value=new\n",
    "\n",
    "r=repeater(42)\n",
    "next(r)\n",
    "# r.send('hello,world')\n",
    "next(r)#返回空"
   ]
  },
  {
   "cell_type": "code",
   "execution_count": 117,
   "metadata": {},
   "outputs": [
    {
     "name": "stdout",
     "output_type": "stream",
     "text": [
      " .  .  .  .  .  X  .  . \n",
      " .  .  .  X  .  .  .  . \n",
      " X  .  .  .  .  .  .  . \n",
      " .  .  .  .  X  .  .  . \n",
      " .  .  .  .  .  .  .  X \n",
      " .  X  .  .  .  .  .  . \n",
      " .  .  .  .  .  .  X  . \n",
      " .  .  X  .  .  .  .  . \n"
     ]
    }
   ],
   "source": [
    "#八皇后专场\n",
    "def conflict(state,nextX):\n",
    "    nextY=len(state)\n",
    "    for i in range(nextY):\n",
    "        if abs(state[i]-nextX) in (0,nextY-i):#水平垂直距离相等则在对角线，为0则在同列\n",
    "#             print(i,abs(state[i]-nextX),nextY-i,1)\n",
    "            return True\n",
    "    return False\n",
    "\n",
    "#基线条件，最后一个皇后\n",
    "def queues(num,state):\n",
    "    '''\n",
    "    num-皇后总数\n",
    "    state-元组，包含已放好的皇后位置\n",
    "    '''\n",
    "    if len(state)==num-1:#如果只剩一个皇后\n",
    "        for pos in range(num):#遍历所有可能位置\n",
    "            if not conflict(state,pos):\n",
    "                yield pos#返回不冲突位置\n",
    "#基线条件，最后一个皇后\n",
    "def queues1(num=8,state=()):\n",
    "    '''\n",
    "    num-皇后总数\n",
    "    state-元组，包含已放好的皇后位置\n",
    "    pos-下一皇后水平位置\n",
    "    递归条件：提供当前行上所有皇后位置，返回当前行下所有皇后位置\n",
    "    基线条件：只剩一个皇后，遍历所有可能位置，返回不冲突位置\n",
    "    '''\n",
    "    for pos in range(num):#假设state位置全部正确，pos为新加入的皇后水平位置，从上到下逐一添加\n",
    "        if not conflict(state,pos):\n",
    "            if len(state)==num-1:#如果只剩一个皇后\n",
    "                yield (pos,)\n",
    "            else:\n",
    "                for result in queues1(num,state+(pos,)):\n",
    "                    yield (pos,)+result           \n",
    "\n",
    "def prettyprint(solution):\n",
    "    def line(pos,length=len(solution)):\n",
    "        return ' . '*(pos)+' X '+' . '*(length-pos-1)\n",
    "    for pos in solution:\n",
    "        print(line(pos))\n",
    "    \n",
    "list(queues(4,(1,3,0)))\n",
    "list(queues1(4))\n",
    "import random\n",
    "prettyprint(random.choice(list(queues1(8))))"
   ]
  }
 ],
 "metadata": {
  "kernelspec": {
   "display_name": "Python 3",
   "language": "python",
   "name": "python3"
  },
  "language_info": {
   "codemirror_mode": {
    "name": "ipython",
    "version": 3
   },
   "file_extension": ".py",
   "mimetype": "text/x-python",
   "name": "python",
   "nbconvert_exporter": "python",
   "pygments_lexer": "ipython3",
   "version": "3.7.0"
  }
 },
 "nbformat": 4,
 "nbformat_minor": 4
}
