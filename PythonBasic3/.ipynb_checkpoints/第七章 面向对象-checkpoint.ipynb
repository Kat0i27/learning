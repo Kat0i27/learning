{
 "cells": [
  {
   "cell_type": "markdown",
   "metadata": {},
   "source": [
    "## 对象魔法\n",
    "\n",
    "- 多态\n",
    "\n",
    "  通用于多种对象类型\n",
    "\n",
    "  破坏多态--使用type,issubclass等函数进行显式类型检查，尽量避免破坏\n",
    "\n",
    "- 封装\n",
    "\n",
    "- 继承\n",
    "\n",
    "## 类\n",
    "\n",
    "- 类，子类，超类/父类\n",
    "\n",
    "- self指向对象本身\n",
    "\n",
    "- 方法，函数：方法将其第一个参数关联到所属的实例self\n",
    "\n",
    "- __func()私有方法，访问bug,不建议\n",
    "\n",
    "- 命名空间\n",
    "\n",
    "  类作用域\n",
    "\n",
    "- 超类/父类\n",
    "\n",
    "### 继承\n",
    "\n",
    "- 继承\n",
    "\n",
    "  issubclass(子类，父类)--Ture/False\n",
    "\n",
    "  类.\\_\\_bases\\__--基类/父类\n",
    "\n",
    "  isinstance(实例，类)--Ture/False\n",
    "\n",
    "- 多重继承\n",
    "\n",
    "  多个超类以不同方式实现同一方法，位于前面的类优先级高，覆盖后面的方法\n",
    "\n",
    "### 接口\n",
    "\n",
    "接口- 对外暴露的方法和属性，\n",
    "\n",
    "检测方法是否存在\n",
    "\n",
    "### 抽象基类\n",
    "\n",
    "- 鸭子类型\n",
    "\n",
    "- 装饰器@this\n",
    "\n",
    "- 抽象类：==不能实例化==，定义子类应该实现的一组抽象方法\n",
    "\n",
    "  @abstractmethod标记为抽象方法，在子类中必须实现的方法\n",
    "\n",
    "- isinstance(子类实例，抽象基类)-True\n",
    "- 将普通类B注册为抽象基类A，所有的B实例都可是为A类对象，isinstance显示true只要在普通类中实现抽象方法则可调用\n",
    "- isinstance-True可视为一种意图表达，但如果未实现抽象方法，则失败\n",
    "\n",
    "\n",
    "\n"
   ]
  },
  {
   "cell_type": "code",
   "execution_count": 13,
   "metadata": {},
   "outputs": [
    {
     "name": "stdout",
     "output_type": "stream",
     "text": [
      "the length of 'font' is 4\n",
      "the length of [1, 2, 3] is 3\n"
     ]
    }
   ],
   "source": [
    "#多态\n",
    "from random import choice\n",
    "x=choice(['hello world',[1,2,'e','e',4]])\n",
    "x.count('e')#随机取一个值查找包含几个'e'\n",
    "\n",
    "'finsh'+'1'\n",
    "1+2\n",
    "\n",
    "def add(x,y):\n",
    "    return x+y\n",
    "\n",
    "add(1,3)\n",
    "add('fine','li')\n",
    "\n",
    "#repr对象转化为string类型显示,多态例子\n",
    "def len_mes(x):\n",
    "    print('the length of',repr(x),'is',len(x))\n",
    "len_mes('font')\n",
    "len_mes([1,2,3])"
   ]
  },
  {
   "cell_type": "code",
   "execution_count": 12,
   "metadata": {},
   "outputs": [
    {
     "name": "stdout",
     "output_type": "stream",
     "text": [
      "hello,world!I'm lihua.\n",
      "the secret message is:\n",
      "Bet you can't see me...\n",
      "Bet you can't see me...\n"
     ]
    },
    {
     "data": {
      "text/plain": [
       "2"
      ]
     },
     "execution_count": 12,
     "metadata": {},
     "output_type": "execute_result"
    }
   ],
   "source": [
    "#类\n",
    "class Persion:\n",
    "    def set_name(self,name):\n",
    "        self.name=name\n",
    "    \n",
    "    def get_name(self):\n",
    "        return self.name\n",
    "    \n",
    "    def greet(self):\n",
    "        print(\"hello,world!I'm {}.\".format(self.name))\n",
    "stu=Persion()\n",
    "stu.set_name('lihua')\n",
    "stu.greet()\n",
    "stu.name#违反封装原则，不用存取器函数get/set也可查看属性\n",
    "\n",
    "class Secretive:\n",
    "    def __inaccessible(self):\n",
    "        print(\"Bet you can't see me...\")\n",
    "    def accessible(self):\n",
    "        print(\"the secret message is:\")\n",
    "        self.__inaccessible()\n",
    "\n",
    "s=Secretive()\n",
    "# s.__inaccessible()#私有方法，只能类函数调用\n",
    "s.accessible()\n",
    "#但实际上也可以访问\n",
    "s._Secretive__inaccessible()\n",
    "\n",
    "\n",
    "#命名空间\n",
    "class MemberCounter:\n",
    "    members=0#变量作用域-类\n",
    "    def init(self):\n",
    "        MemberCounter.members+=1\n",
    "\n",
    "m1=MemberCounter()\n",
    "m1.init()\n",
    "m1.members#1\n",
    "m1.members='one'#新值覆盖类级变量\n",
    "m2=MemberCounter()\n",
    "m2.init()\n",
    "m2.members#2\n",
    "\n"
   ]
  },
  {
   "cell_type": "code",
   "execution_count": 23,
   "metadata": {},
   "outputs": [
    {
     "data": {
      "text/plain": [
       "True"
      ]
     },
     "execution_count": 23,
     "metadata": {},
     "output_type": "execute_result"
    }
   ],
   "source": [
    "#超类/父类\n",
    "class Filter:\n",
    "    def init(self):\n",
    "        self.block=[]\n",
    "    def filter(self,seq):\n",
    "        return [x for x in seq if x not in self.block]\n",
    "\n",
    "class SPAMFilter(Filter):#SPAMFilter是Filter的子类\n",
    "    def init(self):\n",
    "        self.block=['SPAM']\n",
    "\n",
    "f=Filter()\n",
    "f.init()\n",
    "f.filter([1,2,3])\n",
    "\n",
    "s=SPAMFilter()\n",
    "s.init()\n",
    "s.filter(['SPAM','SPAM','SPAM','SPAM','eggs','bacon','SPAM'])\n",
    "\n",
    "issubclass(SPAMFilter,Filter)\n",
    "issubclass(Filter,SPAMFilter)\n",
    "\n",
    "#查基类\n",
    "SPAMFilter.__bases__\n",
    "Filter.__base__\n",
    "\n",
    "#确定对象是某个类的实例\n",
    "isinstance(s,SPAMFilter)\n",
    "isinstance(s,Filter)"
   ]
  },
  {
   "cell_type": "code",
   "execution_count": 24,
   "metadata": {},
   "outputs": [
    {
     "ename": "SyntaxError",
     "evalue": "invalid syntax (<ipython-input-24-25155ba08ace>, line 9)",
     "output_type": "error",
     "traceback": [
      "\u001b[1;36m  File \u001b[1;32m\"<ipython-input-24-25155ba08ace>\"\u001b[1;36m, line \u001b[1;32m9\u001b[0m\n\u001b[1;33m    Class Dog(Running,Eatting):\u001b[0m\n\u001b[1;37m            ^\u001b[0m\n\u001b[1;31mSyntaxError\u001b[0m\u001b[1;31m:\u001b[0m invalid syntax\n"
     ]
    }
   ],
   "source": [
    "#多重继承\n",
    "class Running:\n",
    "    def run(self,expression):\n",
    "        pass\n",
    "class Eatting:\n",
    "    def eat(self,expression):\n",
    "        pass\n",
    "    \n",
    "Class Dog(Running,Eatting):\n",
    "    pass"
   ]
  },
  {
   "cell_type": "code",
   "execution_count": 31,
   "metadata": {},
   "outputs": [
    {
     "data": {
      "text/plain": [
       "mappingproxy({'__module__': '__main__',\n",
       "              '_Secretive__inaccessible': <function __main__.Secretive.__inaccessible(self)>,\n",
       "              'accessible': <function __main__.Secretive.accessible(self)>,\n",
       "              '__dict__': <attribute '__dict__' of 'Secretive' objects>,\n",
       "              '__weakref__': <attribute '__weakref__' of 'Secretive' objects>,\n",
       "              '__doc__': None})"
      ]
     },
     "execution_count": 31,
     "metadata": {},
     "output_type": "execute_result"
    }
   ],
   "source": [
    "#接口\n",
    "hasattr(Secretive,'talk')\n",
    "callable(getattr(Secretive,'accessible',None))\n",
    "#查看对象存储的所有值__dict__\n",
    "Secretive.__dict__"
   ]
  },
  {
   "cell_type": "code",
   "execution_count": 35,
   "metadata": {},
   "outputs": [
    {
     "name": "stdout",
     "output_type": "stream",
     "text": [
      "Quaaaaaack!\n",
      "bird imitate duck.\n",
      "doge imitate duck.\n"
     ]
    }
   ],
   "source": [
    "#鸭子类型\n",
    "#coding=utf-8\n",
    "class Duck:\n",
    "    def quack(self):\n",
    "        print (\"Quaaaaaack!\")\n",
    " \n",
    "class Bird:\n",
    "    def quack(self):\n",
    "        print (\"bird imitate duck.\")\n",
    " \n",
    "class Doge:\n",
    "    def quack(self):\n",
    "        print (\"doge imitate duck.\")\n",
    " \n",
    "def in_the_forest(duck):\n",
    "    duck.quack()\n",
    " \n",
    "duck = Duck()\n",
    "bird = Bird()\n",
    "doge = Doge()\n",
    "for x in [duck, bird, doge]:\n",
    "    in_the_forest(x)\n"
   ]
  },
  {
   "cell_type": "code",
   "execution_count": 43,
   "metadata": {},
   "outputs": [
    {
     "name": "stdout",
     "output_type": "stream",
     "text": [
      "Blub.\n"
     ]
    },
    {
     "ename": "AttributeError",
     "evalue": "'Clam' object has no attribute 'talk'",
     "output_type": "error",
     "traceback": [
      "\u001b[1;31m---------------------------------------------------------------------------\u001b[0m",
      "\u001b[1;31mAttributeError\u001b[0m                            Traceback (most recent call last)",
      "\u001b[1;32m<ipython-input-43-29563cacad17>\u001b[0m in \u001b[0;36m<module>\u001b[1;34m\u001b[0m\n\u001b[0;32m     27\u001b[0m \u001b[0mTalker\u001b[0m\u001b[1;33m.\u001b[0m\u001b[0mregister\u001b[0m\u001b[1;33m(\u001b[0m\u001b[0mClam\u001b[0m\u001b[1;33m)\u001b[0m\u001b[1;33m\u001b[0m\u001b[0m\n\u001b[0;32m     28\u001b[0m \u001b[0mc\u001b[0m\u001b[1;33m=\u001b[0m\u001b[0mClam\u001b[0m\u001b[1;33m(\u001b[0m\u001b[1;33m)\u001b[0m\u001b[1;33m\u001b[0m\u001b[0m\n\u001b[1;32m---> 29\u001b[1;33m \u001b[0mc\u001b[0m\u001b[1;33m.\u001b[0m\u001b[0mtalk\u001b[0m\u001b[1;33m\u001b[0m\u001b[0m\n\u001b[0m",
      "\u001b[1;31mAttributeError\u001b[0m: 'Clam' object has no attribute 'talk'"
     ]
    }
   ],
   "source": [
    "#抽象基类\n",
    "from abc import ABC,abstractmethod\n",
    "\n",
    "class Talker(ABC):\n",
    "    @abstractmethod\n",
    "    def talk(self):\n",
    "        pass\n",
    "\n",
    "class Kniffet(Talker):\n",
    "    def talk(self):\n",
    "        print(\"Ni!\")\n",
    "k=Kniffet()\n",
    "isinstance(k,Talker)\n",
    "\n",
    "class Herring:\n",
    "    def talk(self):\n",
    "        print(\"Blub.\")\n",
    "h=Herring()\n",
    "isinstance(h, Talker)#不是子类\n",
    "#从Talker派生Herring或者将Herring注册为Talker，所有Herring对象都被视为Talker对象\n",
    "Talker.register(Herring)\n",
    "isinstance(h, Talker)\n",
    "h.talk()\n",
    "\n",
    "class Clam:\n",
    "    pass\n",
    "Talker.register(Clam)\n",
    "c=Clam()\n",
    "#c.talk#Clam' object has no attribute 'talk'"
   ]
  }
 ],
 "metadata": {
  "kernelspec": {
   "display_name": "Python 3",
   "language": "python",
   "name": "python3"
  },
  "language_info": {
   "codemirror_mode": {
    "name": "ipython",
    "version": 3
   },
   "file_extension": ".py",
   "mimetype": "text/x-python",
   "name": "python",
   "nbconvert_exporter": "python",
   "pygments_lexer": "ipython3",
   "version": "3.7.0"
  }
 },
 "nbformat": 4,
 "nbformat_minor": 4
}
