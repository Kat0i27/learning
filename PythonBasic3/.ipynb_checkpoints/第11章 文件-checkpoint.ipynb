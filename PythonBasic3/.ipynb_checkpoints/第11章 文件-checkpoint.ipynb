{
 "cells": [
  {
   "cell_type": "markdown",
   "metadata": {},
   "source": [
    "## 打开文件\n",
    "\n",
    "open('path','r/w/x/a/b/t/+')\n",
    "\n",
    "- 默认rt,utf编码，encoding=\n",
    "  通过在模式后面加上'b'，可将文件作为二进制文件打开，并关闭Unicode编码和换行符替换。\n",
    "\n",
    "- 默认\\n结尾，读取时自动替换为\\r或\\r\\n\n",
    "\n",
    "  通用换行模式，newline=''使用且禁止自动转换,读取时不会对行尾字符转换，写入时将\\n转换为指定行尾字符\n",
    "\n",
    "  \n",
    "\n",
    "\n",
    "\n",
    "## 文件的基本方法\n",
    "\n",
    "1. 读取和写入\n",
    "\n",
    "   f.write和f.read\n",
    "\n",
    "   f.close()\n",
    "\n",
    "2. 管道输出重定向\n",
    "\n",
    "3. seek(offset[,相对位置默认io.SEEK_SET(0)])\n",
    "\n",
    "   相对位置默认io.SEEK_SET(0)\n",
    "\n",
    "   io.SEEK_CUR（1）相对当前位置移动，可负或io.SEEK_END（2）相对末尾\n",
    "\n",
    "4. 逐行读取f.readline()\n",
    "\n",
    "   读取所有行返回列表f.readlines()\n",
    "\n",
    "   writelines()写入字符串列表，与readlines相反\n",
    "\n",
    "5. 关闭文件\n",
    "\n",
    "   try-finally\n",
    "\n",
    "   with open() as x:\n",
    "\n",
    "## 迭代文件内容\n",
    "\n",
    "while True+readline+print\n",
    "for x in f.readlines+print(x)\n",
    "\n",
    "延迟迭代：fileinput.input+print\n",
    "\n",
    "文件迭代器：with open as f:+for 迭代f+print_line\n",
    "或者直接for x in open():+print\n",
    "\n",
    "open返回一个file对象，可迭代。所有可以对可迭代对象做的事，都可对文件做\n",
    "写入文件后将其关闭，以确保数据得以写入磁盘。（如你所见，读取文件后并没有将其关闭。这可能有点粗糙，但并非致命的\n",
    "\n",
    "\n",
    "\n"
   ]
  },
  {
   "cell_type": "code",
   "execution_count": 10,
   "metadata": {},
   "outputs": [],
   "source": [
    "f=open('11.2.1.txt','r+')#默认rt\n",
    "f.write('Hello, ')\n",
    "f.write('World!')\n",
    "f.close()"
   ]
  },
  {
   "cell_type": "code",
   "execution_count": 14,
   "metadata": {},
   "outputs": [],
   "source": [
    "f=open('11.2.1.txt','r+')#默认rt\n",
    "f.read(4)#指定读取字符\n",
    "f.read()#指针不会从头读\n",
    "f.close()\n"
   ]
  },
  {
   "cell_type": "code",
   "execution_count": 16,
   "metadata": {},
   "outputs": [
    {
     "name": "stdout",
     "output_type": "stream",
     "text": [
      "WordCount:  0\n"
     ]
    }
   ],
   "source": [
    "import sys\n",
    "text=sys.stdin.read()\n",
    "word=text.split()\n",
    "wordcount=len(word)\n",
    "print(\"WordCount: \",wordcount)"
   ]
  },
  {
   "cell_type": "code",
   "execution_count": 3,
   "metadata": {},
   "outputs": [
    {
     "name": "stdout",
     "output_type": "stream",
     "text": [
      "['01234*****0987654321\\n',\n",
      " '01234567890987654321\\n',\n",
      " '01234567890987654321\\n',\n",
      " '01234*****0987654321\\n',\n",
      " '01234567890987654321\\n',\n",
      " '01234567890987654321\\n']\n"
     ]
    }
   ],
   "source": [
    "from pprint import pprint\n",
    "f=open('somefile.txt','w')\n",
    "f.write('01234567890987654321\\n')\n",
    "f.write('01234567890987654321\\n')\n",
    "f.write('01234567890987654321\\n')\n",
    "\n",
    "f.writelines(['01234*****0987654321\\n', '01234567890987654321\\n', '01234567890987654321\\n'])\n",
    "f.seek(5)#偏移位置调整\n",
    "f.write('*****')\n",
    "f.close()\n",
    "f=open('somefile.txt','r')\n",
    "# f.read()#'01234*****0987654321'\n",
    "# f.readline()#单行读取\n",
    "# f.readline(5)#'01234'\n",
    "pprint(f.readlines())#读取所有行返回列表\n",
    "f.close()\n",
    "\n",
    "#文件关闭\n",
    "try:\n",
    "    #将数据写入文件\n",
    "    pass\n",
    "finally:\n",
    "    pass\n",
    "#     file.close()\n",
    "\n",
    "#或者\n",
    "with open(\"somefile.txt\") as file:\n",
    "    pass\n",
    "#     do_sth(file)\n",
    "#自动关闭"
   ]
  },
  {
   "cell_type": "code",
   "execution_count": 13,
   "metadata": {},
   "outputs": [
    {
     "name": "stdout",
     "output_type": "stream",
     "text": [
      "Process: 01234*****0987654321\n",
      "\n",
      "Process: 01234567890987654321\n",
      "\n",
      "Process: 01234567890987654321\n",
      "\n",
      "Process: 01234*****0987654321\n",
      "\n",
      "Process: 01234567890987654321\n",
      "\n",
      "Process: 01234567890987654321\n",
      "\n"
     ]
    }
   ],
   "source": [
    "def process(string):\n",
    "    print('Process:',string)\n",
    "\n",
    "with open('somefile.txt') as f:\n",
    "#     ch=f.read(1)\n",
    "#     while ch:\n",
    "#         process(ch)\n",
    "#         ch = f.read(1)\n",
    "#     while True:\n",
    "# #         ch=f.read(1)\n",
    "#         line=f.readline()\n",
    "#         if not line:break\n",
    "#         process(line)\n",
    "    \n",
    "    for char in f.readlines():\n",
    "        process(char)"
   ]
  },
  {
   "cell_type": "code",
   "execution_count": 14,
   "metadata": {},
   "outputs": [
    {
     "name": "stdout",
     "output_type": "stream",
     "text": [
      "Process: 01234*****0987654321\n",
      "\n",
      "Process: 01234567890987654321\n",
      "\n",
      "Process: 01234567890987654321\n",
      "\n",
      "Process: 01234*****0987654321\n",
      "\n",
      "Process: 01234567890987654321\n",
      "\n",
      "Process: 01234567890987654321\n",
      "\n"
     ]
    }
   ],
   "source": [
    "import fileinput\n",
    "for line in fileinput.input('somefile.txt'):\n",
    "    process(line)"
   ]
  },
  {
   "cell_type": "code",
   "execution_count": 17,
   "metadata": {},
   "outputs": [
    {
     "name": "stdout",
     "output_type": "stream",
     "text": [
      "Process: 01234*****0987654321\n",
      "\n",
      "Process: 01234567890987654321\n",
      "\n",
      "Process: 01234567890987654321\n",
      "\n",
      "Process: 01234*****0987654321\n",
      "\n",
      "Process: 01234567890987654321\n",
      "\n",
      "Process: 01234567890987654321\n",
      "\n"
     ]
    }
   ],
   "source": [
    "# with open('somefile.txt') as f:#迭代文件\n",
    "#     for line in f:\n",
    "#         process(line)\n",
    "\n",
    "for line in open('somefile.txt'):\n",
    "    process(line)"
   ]
  },
  {
   "cell_type": "code",
   "execution_count": 19,
   "metadata": {},
   "outputs": [],
   "source": [
    "#stdin可迭代\n",
    "import sys\n",
    "for line in sys.stdin:\n",
    "    process(line)"
   ]
  },
  {
   "cell_type": "code",
   "execution_count": 23,
   "metadata": {},
   "outputs": [
    {
     "data": {
      "text/plain": [
       "('01234*****0987654321\\n',\n",
       " ['01234567890987654321\\n',\n",
       "  '01234567890987654321\\n',\n",
       "  '01234*****0987654321\\n',\n",
       "  '01234567890987654321\\n'],\n",
       " '01234567890987654321\\n')"
      ]
     },
     "execution_count": 23,
     "metadata": {},
     "output_type": "execute_result"
    }
   ],
   "source": [
    "list(open('somefile.txt'))\n",
    "a1,*a2,a3=open('somefile.txt')\n",
    "a1,a2,a3\n"
   ]
  }
 ],
 "metadata": {
  "kernelspec": {
   "display_name": "Python 3",
   "language": "python",
   "name": "python3"
  },
  "language_info": {
   "codemirror_mode": {
    "name": "ipython",
    "version": 3
   },
   "file_extension": ".py",
   "mimetype": "text/x-python",
   "name": "python",
   "nbconvert_exporter": "python",
   "pygments_lexer": "ipython3",
   "version": "3.7.0"
  }
 },
 "nbformat": 4,
 "nbformat_minor": 4
}
