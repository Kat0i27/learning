{
 "cells": [
  {
   "cell_type": "markdown",
   "metadata": {},
   "source": [
    "## 字典\n",
    "\n",
    "键唯一，值不唯一\n",
    "\n",
    "dict从其他类型映射为字典\n",
    "\n",
    "字典操作：len(d),d[k],d[k]=v,del d[k],k in d\n",
    "\n",
    "字典与列表的区别：\n",
    "\n",
    "1. 键的类型可以是任何不变的类型，浮点数，整数，字符串，元组\n",
    "2. 自动添加，即便字典中没有该键，也可赋值添加\n",
    "3. 成员资格：k in d查找的是键\n",
    "\n",
    "字符串格式设置功能用于字典\" {key} \".format_map(dic)\n",
    "\n",
    "字典方法\n",
    "\n",
    "clear()删除所有字典项，返回None.\n",
    "\n",
    "赋值，指向同一数据；copy,副本，浅复制(复制的新字典中值本身是原件)，深复制（连同值一起复制）\n",
    "\n",
    "fromkeys创建含指定键的空值字典`{'name': None, 'age': None}`\n",
    "\n",
    "访问字典get,不存在None,使用键索引不存在报错\n",
    "\n",
    "items返回含所有字典项的列表[(k,v),(k,v),...],返回值是“字典视图”，不复制，是底层字典的反应。\n",
    "\n",
    "dic.items()可复制\n",
    "\n",
    "keys()返回键的字典视图\n",
    "\n",
    "dic.pop('key')删除键值对\n",
    "\n",
    "dic.popietm()随机删除，快，无需先获取键列表。字典无序，从最后删除的方法无意义。\n",
    "\n",
    "setdefault,不存在添加，存在则不变，与get对应\n",
    "\n",
    "update使用一个字典更新另一个，将参数添加入字典，若键存在，则进行值替换。\n",
    "\n",
    "dic.values()可能包含重复值"
   ]
  },
  {
   "cell_type": "code",
   "execution_count": 29,
   "metadata": {
    "scrolled": true
   },
   "outputs": [
    {
     "name": "stdout",
     "output_type": "stream",
     "text": [
      "<html>\n",
      "    <head><title>My home Page</title></head>\n",
      "    <body>\n",
      "    <h1>My home Page</h1>\n",
      "    <p>Welcome to my home page!</p>\n",
      "    </body>\n"
     ]
    }
   ],
   "source": [
    "phonebook={'Alice':'2341','Beth':'9012','Cencil':'3258'}\n",
    "phonebook\n",
    "\n",
    "items=[('name','Gumby'),('age',42)]\n",
    "d=dict(items)\n",
    "d['name']\n",
    "\n",
    "c=dict(name='Jam',age=67)\n",
    "c['sex']='man'#可直接添加\n",
    "c\n",
    "\n",
    "\"Cecil's phone number is {Cencil}.\".format_map(phonebook)\n",
    "temp='''<html>\n",
    "    <head><title>{title}</title></head>\n",
    "    <body>\n",
    "    <h1>{title}</h1>\n",
    "    <p>{text}</p>\n",
    "    </body>'''\n",
    "data={'title':'My home Page','text':'Welcome to my home page!'}\n",
    "print(temp.format_map(data))"
   ]
  },
  {
   "cell_type": "code",
   "execution_count": 23,
   "metadata": {},
   "outputs": [
    {
     "name": "stdout",
     "output_type": "stream",
     "text": [
      "Name:lili\n",
      "Phone number(p) or address(a)?p\n",
      "lili's phone number is 3121.\n"
     ]
    }
   ],
   "source": [
    "#一个简单的数据库1.0\n",
    "people={\n",
    "    'Alice':{\n",
    "        'phone':'2341',\n",
    "        'addr':'Foo drive 23'\n",
    "    },\n",
    "    'Bob':{\n",
    "        'phone':'9012',\n",
    "        'addr':'Bar street 42'      \n",
    "    },\n",
    "    'lili':{\n",
    "        'phone':'3121',\n",
    "        'addr':'Baz avenue 90'\n",
    "    }\n",
    "}\n",
    "\n",
    "#描述性标签\n",
    "labels={\n",
    "    'phone':'phone number',\n",
    "    'addr':'address'\n",
    "}\n",
    "\n",
    "name=input('Name:')\n",
    "requsts=input('Phone number(p) or address(a)?')\n",
    "if requsts=='p':\n",
    "    key='phone'\n",
    "elif requsts== 'a':\n",
    "    key='addr'\n",
    "else:\n",
    "        print('bad input')\n",
    "if name in people:\n",
    "    print(\"{}'s {} is {}.\".format(name,labels[key],people[name][key]))"
   ]
  },
  {
   "cell_type": "code",
   "execution_count": 39,
   "metadata": {},
   "outputs": [
    {
     "data": {
      "text/plain": [
       "({}, {})"
      ]
     },
     "execution_count": 39,
     "metadata": {},
     "output_type": "execute_result"
    }
   ],
   "source": [
    "d={}\n",
    "d['name']='alice'\n",
    "d['age']=100\n",
    "d\n",
    "return_value=d.clear()\n",
    "d\n",
    "return_value\n",
    "\n",
    "\n",
    "#场景1：保留y\n",
    "x={}\n",
    "y=x\n",
    "x['key']='value'\n",
    "y\n",
    "x={}\n",
    "x,y\n",
    "\n",
    "#场景2：一起删除\n",
    "x={}\n",
    "y=x\n",
    "x['key']='value'\n",
    "x.clear()\n",
    "x,y\n"
   ]
  },
  {
   "cell_type": "code",
   "execution_count": 44,
   "metadata": {},
   "outputs": [
    {
     "name": "stdout",
     "output_type": "stream",
     "text": [
      "{'uname': 'admin', 'machine': {'bar', 'baz'}} {'uname': 'bob', 'machine': {'bar', 'baz'}}\n",
      "{'uname': 'admin', 'machine': {'baz'}} {'uname': 'bob', 'machine': {'baz'}}\n",
      "{'uname': 'admin', 'machine': {'baz'}} {'uname': 'admin', 'machine': {'baz'}, 'tel': '11179796231'}\n"
     ]
    }
   ],
   "source": [
    "#copy\n",
    "x={'uname':'admin','machine':{'bar','baz'}}\n",
    "y=x.copy()\n",
    "y['uname']='bob'#值替换不改变x\n",
    "print(x,y)\n",
    "y['machine'].remove('bar')\n",
    "print(x,y)#直接修改形式，影响原件\n",
    "from copy import deepcopy#深复制，修改不影响\n",
    "c=deepcopy(x)\n",
    "c['tel']='11179796231'\n",
    "print(x,c)"
   ]
  },
  {
   "cell_type": "code",
   "execution_count": 52,
   "metadata": {},
   "outputs": [
    {
     "name": "stdout",
     "output_type": "stream",
     "text": [
      "None\n",
      "N/A\n"
     ]
    }
   ],
   "source": [
    "#fromkeys\n",
    "{}.fromkeys(['name','age'])\n",
    "{}.fromkeys(['name','age'],'(unkonw)')#可指定值\n",
    "\n",
    "\n",
    "#get\n",
    "d={}\n",
    "#print(d['name'])#报错\n",
    "print(d.get('name'))\n",
    "print(d.get('name','N/A'))#可指定\n"
   ]
  },
  {
   "cell_type": "code",
   "execution_count": null,
   "metadata": {},
   "outputs": [],
   "source": [
    "#一个简单的数据库1.1\n",
    "people={\n",
    "    'Alice':{\n",
    "        'phone':'2341',\n",
    "        'addr':'Foo drive 23'\n",
    "    },\n",
    "    'Bob':{\n",
    "        'phone':'9012',\n",
    "        'addr':'Bar street 42'      \n",
    "    },\n",
    "    'lili':{\n",
    "        'phone':'3121',\n",
    "        'addr':'Baz avenue 90'\n",
    "    }\n",
    "}\n",
    "\n",
    "#描述性标签\n",
    "labels={\n",
    "    'phone':'phone number',\n",
    "    'addr':'address'\n",
    "}\n",
    "\n",
    "name=input('Name:')\n",
    "requsts=input('Phone number(p) or address(a)?')\n",
    "key=requsts\n",
    "if requsts=='p':\n",
    "    key='phone'\n",
    "elif requsts== 'a':\n",
    "    key='addr'\n",
    "else:\n",
    "    print('bad input')\n",
    "\n",
    "person=people.get(name,{})\n",
    "label=labels.get(key,key)\n",
    "result=person.get(key,'not available')\n",
    "print(\"{}'s {} is {}.\".format(name,label,result))\n",
    "        \n"
   ]
  },
  {
   "cell_type": "code",
   "execution_count": 28,
   "metadata": {},
   "outputs": [
    {
     "data": {
      "text/plain": [
       "([('title', 'python web site'), ('url', 'http://www.python.org'), ('spam', 1)],\n",
       " {'title': 'python web site', 'url': 'http://www.python.org', 'spam': 5})"
      ]
     },
     "execution_count": 28,
     "metadata": {},
     "output_type": "execute_result"
    }
   ],
   "source": [
    "d={'title':'python web site','url':'http://www.python.org','spam':0}\n",
    "it=d.items()\n",
    "len(it)\n",
    "('spam',0) in it\n",
    "d['spam']=1\n",
    "('spam',0) in it\n",
    "\n",
    "\n",
    "#复制items(),不改变\n",
    "hi=list(d.items())\n",
    "d['spam']=5\n",
    "hi,d"
   ]
  },
  {
   "cell_type": "code",
   "execution_count": 29,
   "metadata": {},
   "outputs": [
    {
     "name": "stdout",
     "output_type": "stream",
     "text": [
      "{'title': 'python web site', 'url': 'http://www.python.org', 'spam': 5}\n"
     ]
    },
    {
     "data": {
      "text/plain": [
       "{'title': 'python web site', 'url': 'http://www.python.org'}"
      ]
     },
     "execution_count": 29,
     "metadata": {},
     "output_type": "execute_result"
    }
   ],
   "source": [
    "d.keys()\n",
    "\n",
    "#d.pop('title')\n",
    "print(d)\n",
    "d.popitem()\n",
    "d"
   ]
  },
  {
   "cell_type": "code",
   "execution_count": 31,
   "metadata": {},
   "outputs": [
    {
     "data": {
      "text/plain": [
       "{'name': 'Jim'}"
      ]
     },
     "execution_count": 31,
     "metadata": {},
     "output_type": "execute_result"
    }
   ],
   "source": [
    "#setdefault\n",
    "d={}\n",
    "d.setdefault('name','N/A')#可指定默认值\n",
    "d\n",
    "d['name']='Jim'\n",
    "d.setdefault('name','N/A')\n",
    "d"
   ]
  },
  {
   "cell_type": "code",
   "execution_count": 33,
   "metadata": {},
   "outputs": [
    {
     "data": {
      "text/plain": [
       "{'title': 'Pyhon Language website',\n",
       " 'url': 'http://www.python.org',\n",
       " 'changed': 'Mar 14 22:09:15 MET 2016'}"
      ]
     },
     "execution_count": 33,
     "metadata": {},
     "output_type": "execute_result"
    }
   ],
   "source": [
    "d={\n",
    "    'title':'Python Web Site',\n",
    "    'url':'http://www.python.org',\n",
    "    'changed':'Mar 14 22:09:15 MET 2016'\n",
    "}\n",
    "x={'title':'Pyhon Language website'}\n",
    "d.update(x)\n",
    "d"
   ]
  },
  {
   "cell_type": "code",
   "execution_count": 37,
   "metadata": {},
   "outputs": [
    {
     "data": {
      "text/plain": [
       "dict_values([1, 3, 2, 1])"
      ]
     },
     "execution_count": 37,
     "metadata": {},
     "output_type": "execute_result"
    }
   ],
   "source": [
    "d={1:1,2:3,3:2,4:1}\n",
    "d\n",
    "d.values()\n"
   ]
  }
 ],
 "metadata": {
  "kernelspec": {
   "display_name": "Python 3",
   "language": "python",
   "name": "python3"
  },
  "language_info": {
   "codemirror_mode": {
    "name": "ipython",
    "version": 3
   },
   "file_extension": ".py",
   "mimetype": "text/x-python",
   "name": "python",
   "nbconvert_exporter": "python",
   "pygments_lexer": "ipython3",
   "version": "3.7.0"
  }
 },
 "nbformat": 4,
 "nbformat_minor": 4
}
