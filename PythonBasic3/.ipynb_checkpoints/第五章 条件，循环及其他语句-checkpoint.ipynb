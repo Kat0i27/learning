{
 "cells": [
  {
   "cell_type": "markdown",
   "metadata": {},
   "source": [
    "print打印多个参数,`,`分割，默认添加一个空格.`+`连接无空格，可自定义分隔符sep，结尾end\n",
    "导入模块/函数重命名，防止两个模块中同名函数使用冲突\n",
    "序列解包\n",
    "缩进+：\n",
    "条件语句 if,if-else,if-elif-else\n",
    "布尔值 假\n",
    "转换bool()\n",
    "运算符：\n",
    "is与==\n",
    "ord(字符)-顺序值，chr(顺序值)-字符\n",
    "链式比较\n",
    "断言：assert\n",
    "zip(list1,list2)-得到元组列表[(list1[1]，list2[1]),(),...]\n",
    "while循环\n",
    "for循环，有限个in range(),不限in list/dic.items/tuple\n",
    "迭代时获取索引，enumerate()\n",
    "sorted和reversed()，reversed产生一个可迭代对象(可在for循环和join中直接使用，输出使用list强行结束迭代)\n",
    "break和continue\n",
    "while true和break\n",
    "循环中的else语句\n",
    "列表推导式,字典推导式，生成可迭代对象（）\n",
    "pass,del,exec,eval\n"
   ]
  },
  {
   "cell_type": "code",
   "execution_count": 9,
   "metadata": {},
   "outputs": [
    {
     "name": "stdout",
     "output_type": "stream",
     "text": [
      "Age: 42\n",
      "Mr. lili's tel is 187328436438\n",
      "I_wish_to_register_a_complaint\n",
      "hello,world\n"
     ]
    }
   ],
   "source": [
    "print('Age:',42)#默认加空格\n",
    "\n",
    "name='lili'\n",
    "tel='187328436438'\n",
    "salutation='Mr.'\n",
    "print(salutation,name+\"'s tel is\",tel)#+不加空格\n",
    "print(\"I\",\"wish\",\"to\",\"register\",\"a\",\"complaint\",sep=\"_\")#分隔符自定义\n",
    "print(\"hello,\",end=\"\")#指定结束字符，默认换行符\n",
    "print(\"world\")"
   ]
  },
  {
   "cell_type": "code",
   "execution_count": 13,
   "metadata": {},
   "outputs": [
    {
     "data": {
      "text/plain": [
       "2.0"
      ]
     },
     "execution_count": 13,
     "metadata": {},
     "output_type": "execute_result"
    }
   ],
   "source": [
    "#导入模块\n",
    "import math\n",
    "from math import pi,e\n",
    "from math import *\n",
    "#导入后重命名\n",
    "import math as foobar\n",
    "foobar.sqrt(4)\n",
    "from math import sqrt as foobar\n",
    "foobar(4)"
   ]
  },
  {
   "cell_type": "code",
   "execution_count": 13,
   "metadata": {},
   "outputs": [
    {
     "name": "stdout",
     "output_type": "stream",
     "text": [
      "1 2 3\n"
     ]
    },
    {
     "data": {
      "text/plain": [
       "['is', 'a']"
      ]
     },
     "execution_count": 13,
     "metadata": {},
     "output_type": "execute_result"
    }
   ],
   "source": [
    "#序列解包\n",
    "x,y,z=1,2,3\n",
    "print(x,y,z)\n",
    "values=1,2,3\n",
    "type(values)#元组\n",
    "dic={'name':'kiki','age':19}\n",
    "key,value=dic.popitem()#随机取\n",
    "key\n",
    "value\n",
    "a,b,*rest=[1,2,3,4]\n",
    "rest\n",
    "first,*middle,last=\"this is a test\".split()\n",
    "middle"
   ]
  },
  {
   "cell_type": "code",
   "execution_count": 18,
   "metadata": {},
   "outputs": [
    {
     "data": {
      "text/plain": [
       "3"
      ]
     },
     "execution_count": 18,
     "metadata": {},
     "output_type": "execute_result"
    }
   ],
   "source": [
    "#链式赋值\n",
    "x=y=1\n",
    "x==y\n",
    "#增强赋值\n",
    "x+=2\n",
    "x"
   ]
  },
  {
   "cell_type": "code",
   "execution_count": 28,
   "metadata": {},
   "outputs": [
    {
     "data": {
      "text/plain": [
       "True"
      ]
     },
     "execution_count": 28,
     "metadata": {},
     "output_type": "execute_result"
    }
   ],
   "source": [
    "#布尔值\n",
    "False,None,0,\"\",{},(),[]\n",
    "bool('this is a test')"
   ]
  },
  {
   "cell_type": "code",
   "execution_count": null,
   "metadata": {},
   "outputs": [],
   "source": [
    "#if语句\n",
    "name=input('What is your name: ')\n",
    "if name.endswith('Gumby'):\n",
    "    if name.startswith('Mr.'):\n",
    "        print('hello,Mr.Gumby')\n",
    "    elif name.startswith('Mrs.'):\n",
    "        print('hello,Mrs.Gumby')\n",
    "    else:\n",
    "        print('hello,Mrs.Gumby')\n",
    "else:\n",
    "    print('hello,stranger')\n",
    "\n",
    "    \n",
    "num=int(input('Enter a number: '))\n",
    "if num>0:\n",
    "    print('The number is positive')\n",
    "elif num<0:\n",
    "    print('the number is negative')\n",
    "else:\n",
    "    print('the number is zero')\n"
   ]
  },
  {
   "cell_type": "code",
   "execution_count": 8,
   "metadata": {},
   "outputs": [
    {
     "data": {
      "text/plain": [
       "True"
      ]
     },
     "execution_count": 8,
     "metadata": {},
     "output_type": "execute_result"
    }
   ],
   "source": [
    "x=y=[1,2,3]\n",
    "z=[1,2,3]\n",
    "x is z\n",
    "x is not z\n",
    "d=[2,4]\n",
    "del x[0]\n",
    "y[1]=4\n",
    "x==d\n",
    "x is d\n",
    "1<10<100"
   ]
  },
  {
   "cell_type": "code",
   "execution_count": 14,
   "metadata": {},
   "outputs": [
    {
     "name": "stdout",
     "output_type": "stream",
     "text": [
      "1\n"
     ]
    }
   ],
   "source": [
    "age=1\n",
    "assert 0<age<100,'this is a num between 0 and 100'#检查点，不满足条件则报错\n",
    "print(age)\n"
   ]
  },
  {
   "cell_type": "code",
   "execution_count": 37,
   "metadata": {},
   "outputs": [
    {
     "name": "stdout",
     "output_type": "stream",
     "text": [
      "1 2 3 4 5 6 7 8 9 10 \n",
      "this\n",
      "is\n",
      "an\n",
      "ex\n",
      "parrot\n",
      "0-1-2-3-4-5-6-7-8-9-x corresponds to 1\n",
      "y corresponds to 2\n",
      "z corresponds to 3\n",
      "lili is 12 years old\n",
      "shdj is 34 years old\n",
      "alice is 56 years old\n",
      "lili is 12 years old\n",
      "shdj is 34 years old\n",
      "alice is 56 years old\n"
     ]
    },
    {
     "data": {
      "text/plain": [
       "['lili', 'shdj', '[censored]']"
      ]
     },
     "execution_count": 37,
     "metadata": {},
     "output_type": "execute_result"
    }
   ],
   "source": [
    "#循环\n",
    "#while\n",
    "x=1\n",
    "while x<=10:\n",
    "    print(x,end=' ')\n",
    "    x+=1\n",
    "print()\n",
    "#for\n",
    "words='this is an ex parrot'.split()\n",
    "for word in words:\n",
    "    print(word)\n",
    "for i in range(10):\n",
    "    print(i,end='-')\n",
    "list(range(10,20))\n",
    "\n",
    "d={'x':1,'y':2,'z':3}\n",
    "for key,value in d.items():\n",
    "    print(key,'corresponds to',value)\n",
    "    \n",
    "names=['lili','shdj','alice']\n",
    "ages=[12,34,56]\n",
    "for i in range(len(names)):\n",
    "    print(names[i],'is',ages[i],'years old')\n",
    "#zip\n",
    "for name,age in zip(names,ages):\n",
    "    print(name,'is',age,'years old')\n",
    "#迭代时获取索引\n",
    "for index, string in enumerate(names):\n",
    "    if 'alice' in string:\n",
    "        names[index]='[censored]'\n",
    "names"
   ]
  },
  {
   "cell_type": "code",
   "execution_count": 43,
   "metadata": {},
   "outputs": [
    {
     "data": {
      "text/plain": [
       "'dlrow olleh'"
      ]
     },
     "execution_count": 43,
     "metadata": {},
     "output_type": "execute_result"
    }
   ],
   "source": [
    "sorted([4,3,6,8,3])\n",
    "sorted('hello,world')\n",
    "list(reversed('hello world'))\n",
    "''.join(reversed('hello world'))"
   ]
  },
  {
   "cell_type": "code",
   "execution_count": 46,
   "metadata": {},
   "outputs": [
    {
     "name": "stdout",
     "output_type": "stream",
     "text": [
      "81\n"
     ]
    }
   ],
   "source": [
    "#循环中的else语句\n",
    "from math import sqrt\n",
    "for n in range(99,80,-1):\n",
    "    root=sqrt(n)\n",
    "    if root==int(root):\n",
    "        print(n)\n",
    "        break\n",
    "else:\n",
    "    print(\"Didn't find it!\")#不break时调用\n",
    "    "
   ]
  },
  {
   "cell_type": "code",
   "execution_count": 56,
   "metadata": {},
   "outputs": [
    {
     "data": {
      "text/plain": [
       "'9 squared is 81'"
      ]
     },
     "execution_count": 56,
     "metadata": {},
     "output_type": "execute_result"
    }
   ],
   "source": [
    "[x*x for x in range(20)]\n",
    "[(x,y) for x in range(3) for y in range(5,0,-1)]\n",
    "\n",
    "squars={i:\"{} squared is {}\".format(i,i**2) for i in range(10)}#字典推导式，{}\n",
    "squars[9]\n",
    "#（）推导将创建生成器\n"
   ]
  },
  {
   "cell_type": "code",
   "execution_count": null,
   "metadata": {},
   "outputs": [],
   "source": [
    "#特殊语句\n",
    "num=input('please input a number: ')\n",
    "if int(num)<10:\n",
    "    pass#还未完成,多做占位符\n",
    "#del删除对象\n",
    "num1=num\n",
    "del num\n",
    "#print(num)\n",
    "#print(num1)#删除对象引用与名称，但没有删除值本省，实际上python中更本没有办法删除值"
   ]
  },
  {
   "cell_type": "code",
   "execution_count": null,
   "metadata": {},
   "outputs": [],
   "source": [
    "#exec,eval执行语句\n",
    "#exec执行一系列的python语句\n",
    "exec(\"print('jshdjs!')\")\n",
    "scopy={}\n",
    "exec(\"sqrt=1\",scopy)#为避免修改变量sqrt，添加字典作为参数，用作代码的命名空间\n",
    "scopy['sqrt']\n",
    "scopy.keys()\n",
    "#eval，计算用字符串表示的python表达式的值\n",
    "eval(input(\"Enter an arithmetic expression: \"))"
   ]
  },
  {
   "cell_type": "code",
   "execution_count": 73,
   "metadata": {},
   "outputs": [
    {
     "data": {
      "text/plain": [
       "3"
      ]
     },
     "execution_count": 73,
     "metadata": {},
     "output_type": "execute_result"
    }
   ],
   "source": [
    "#命名空间\n",
    "scopy={}\n",
    "scopy['x']=1\n",
    "scopy['y']=3\n",
    "eval('x*y',scopy)"
   ]
  }
 ],
 "metadata": {
  "kernelspec": {
   "display_name": "Python 3",
   "language": "python",
   "name": "python3"
  },
  "language_info": {
   "codemirror_mode": {
    "name": "ipython",
    "version": 3
   },
   "file_extension": ".py",
   "mimetype": "text/x-python",
   "name": "python",
   "nbconvert_exporter": "python",
   "pygments_lexer": "ipython3",
   "version": "3.7.0"
  }
 },
 "nbformat": 4,
 "nbformat_minor": 4
}
