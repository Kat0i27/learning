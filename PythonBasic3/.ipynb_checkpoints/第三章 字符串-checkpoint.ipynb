{
 "cells": [
  {
   "cell_type": "markdown",
   "metadata": {},
   "source": [
    "## 字符串\n",
    "\n",
    "字符串不可变，不可赋值\n",
    "\n",
    "三种格式化方式，format多用与简写{存放变量}，format指定变量或格式，要包含{}，可用双重\n",
    "\n",
    "格式化：字段名{}，转换标志r/a/s，格式说明符`:f，b...`\n",
    "\n",
    "未命名参数和命名参数\n",
    "\n",
    "字段中可使用索引和点句表示法\n",
    "\n",
    "基本转换,格式说明符，宽度精度千位分隔符，对齐方式\n",
    "\n",
    "补零，左对齐，右对齐，居中^\n",
    "\n",
    "{}和{{}}\t`'{{:{}}}{{:>{}}}'.format(item_width,price_width)`\n",
    "\n",
    "center\n",
    "\n",
    "find,指定起点终点（一般包含起点，不包含终点，python惯常做法)\n",
    "\n",
    "join,需要都是字符串\n",
    "\n",
    "lower()\n",
    "\n",
    "split()\n",
    "\n",
    "strip()去首尾空白，指定删除\n",
    "\n",
    "replace()\n",
    "\n",
    "translate(参1，参2，参3-可选)单字符替换，参2替换参1，删除参3\n",
    "\n",
    "字符串满足条件？\n",
    "\n",
    "isalnum,isalpha,isdecimal,isdigit数字,islower,isnumberic,isprintable,isspace空白,istitle,isupper大写,isdentifier"
   ]
  },
  {
   "cell_type": "code",
   "execution_count": 14,
   "metadata": {},
   "outputs": [
    {
     "data": {
      "text/plain": [
       "'{first,second and third}'"
      ]
     },
     "execution_count": 14,
     "metadata": {},
     "output_type": "execute_result"
    }
   ],
   "source": [
    "'hello,%s %s enough for ya?'%('world,','Hot')\n",
    "\n",
    "from string import Template\n",
    "tmpl=Template(\"Hello,$who! $what enough for ya?\")\n",
    "tmpl.substitute(who='Mars',what='Dusty')\n",
    "\n",
    "\"{},{} and {}\".format(\"first\",\"second\",\"third\")\n",
    "\"{3} {0} {2} {1} {3} {0}\".format(\"be\",\"not\",\"or\",\"to\")\n",
    "from math import pi,e\n",
    "\"{name} is approximately {value:.2f}.\".format(value=pi,name=\"Π\") \n",
    "f\"Euler's constant is roughly {e}\"\n",
    "\"{{{},{} and {}}}\".format(\"first\",\"second\",\"third\")"
   ]
  },
  {
   "cell_type": "code",
   "execution_count": 19,
   "metadata": {},
   "outputs": [
    {
     "data": {
      "text/plain": [
       "'3 2 4 1'"
      ]
     },
     "execution_count": 19,
     "metadata": {},
     "output_type": "execute_result"
    }
   ],
   "source": [
    "\"{foo} {} {bar} {}\".format(1,2,bar=4,foo=3)\n",
    "\"{foo} {1} {bar} {0}\".format(1,2,bar=4,foo=3)"
   ]
  },
  {
   "cell_type": "code",
   "execution_count": 25,
   "metadata": {},
   "outputs": [
    {
     "data": {
      "text/plain": [
       "'the math module defines the value 3.141592653589793 for Π'"
      ]
     },
     "execution_count": 25,
     "metadata": {},
     "output_type": "execute_result"
    }
   ],
   "source": [
    "fullname=['Alfred','smoketoomuch']\n",
    "'Mr {name[1]}'.format(name=fullname)\n",
    "tmpl='the {mod.__name__} module defines the value {mod.pi} for Π'\n",
    "tmpl.format(mod=math)"
   ]
  },
  {
   "cell_type": "code",
   "execution_count": 37,
   "metadata": {},
   "outputs": [
    {
     "name": "stdout",
     "output_type": "stream",
     "text": [
      "Π 'Π' '\\u03a0'\n"
     ]
    },
    {
     "data": {
      "text/plain": [
       "'One googol is 10,000,000,000,000,000,000,000,000,000,000,000,000,000,000,000,000,000,000,000,000,000,000,000,000,000,000,000,000,000,000,000,000,000'"
      ]
     },
     "execution_count": 37,
     "metadata": {},
     "output_type": "execute_result"
    }
   ],
   "source": [
    "print(\"{pi!s} {pi!r} {pi!a}\".format(pi=\"Π\"))#str,repr创建定值的python表示,ascii\n",
    "\"the number is {num}\".format(num=42)\n",
    "\"the number is {num:f}\".format(num=42)#：为格式说明符\n",
    "\"the number is {num:b}\".format(num=4)\n",
    "\n",
    "\"{num:10}\".format(num=3)#宽度\n",
    "\"{name:10}\".format(name='Bob')#宽度\n",
    "\"Pi day is {pi:.2f}\".format(pi=pi)\n",
    "f\"Pi day is {pi:.2f}\"\n",
    "\"{pi:10.2f}\".format(pi=pi)#宽度为10，小数位数2\n",
    "\"One googol is {:,}\".format(10**100)#千位分隔符"
   ]
  },
  {
   "cell_type": "code",
   "execution_count": 58,
   "metadata": {},
   "outputs": [
    {
     "name": "stdout",
     "output_type": "stream",
     "text": [
      "      3.14\n",
      "     -3.14\n",
      "      3.14\n",
      "-     3.14\n",
      "     +3.14\n",
      "     -3.14\n"
     ]
    },
    {
     "data": {
      "text/plain": [
       "'42.0000'"
      ]
     },
     "execution_count": 58,
     "metadata": {},
     "output_type": "execute_result"
    }
   ],
   "source": [
    "\"{:010.2f}\".format(pi)#补零填充\n",
    "\n",
    "'{0:<10.2f}\\n{0:^10.2f}\\n{0:>10.2f}'.format(pi)\n",
    "'{:$^15}'.format(\" WIN BIG \")\n",
    "print(\"{0:10.2f}\\n{1:10.2f}\".format(pi,-pi))\n",
    "print(\"{0:10.2f}\\n{1:=10.2f}\".format(pi,-pi))#=填充字符，将填充放在数字与字符中间\n",
    "print(\"{0:+10.2f}\\n{1:10.2f}\".format(pi,-pi))#整数加+\n",
    "\"{0:#b}  {0:b}\".format(42)##进制前缀\n",
    "\"{:#g}\".format(42)"
   ]
  },
  {
   "cell_type": "code",
   "execution_count": 7,
   "metadata": {},
   "outputs": [
    {
     "name": "stdout",
     "output_type": "stream",
     "text": [
      "Please enter width: 34\n",
      "==================================\n",
      "Item                         Price\n",
      "----------------------------------\n",
      "Apples                        0.40\n",
      "Pears                         0.50\n",
      "Cantaloupes                   1.92\n",
      "Dired Apricots (16 oz.)       8.00\n",
      "Prunes(4 lbs.)               12.00\n",
      "==================================\n"
     ]
    }
   ],
   "source": [
    "width=int(input('Please enter width: '))\n",
    "price_width=10\n",
    "item_width=width-price_width\n",
    "\n",
    "header_fmt='{{:{}}}{{:>{}}}'.format(item_width,price_width)#{:5}{:>6},若想显示{}，需{{}}\n",
    "fmt='{{:{}}}{{:>{}.2f}}'.format(item_width,price_width)\n",
    "\n",
    "print('='*width)\n",
    "print(header_fmt.format('Item','Price'))\n",
    "print('-'*width)\n",
    "\n",
    "print(fmt.format('Apples',0.4))\n",
    "print(fmt.format('Pears',0.5))\n",
    "print(fmt.format('Cantaloupes',1.92))\n",
    "print(fmt.format('Dired Apricots (16 oz.)',8))\n",
    "print(fmt.format('Prunes(4 lbs.)',12))\n",
    "\n",
    "print('='*width)"
   ]
  },
  {
   "cell_type": "code",
   "execution_count": 25,
   "metadata": {},
   "outputs": [
    {
     "name": "stdout",
     "output_type": "stream",
     "text": [
      "C:\\usr\\bin\\env\n"
     ]
    }
   ],
   "source": [
    "#字符串方法\n",
    "\"the middle by Jimmy Eat World\".center(39)\n",
    "\"the middle by Jimmy Eat World\".center(39,'*')\n",
    "\n",
    "'with a mom- mom here,and a mom-mom there'.find('mom')#返回第一个索引，否则-1\n",
    "subject='$$$ Get rich now!!! $$$'\n",
    "subject.find('$$$')\n",
    "subject.find('$$$',1)#指定搜索起点\n",
    "len(subject)\n",
    "subject.find('$$$',0,16)#指定搜索起点,终点\n",
    "\n",
    "seq=[1,2,3,4,5]\n",
    "seq1=list('12345')\n",
    "sep='+'\n",
    "#sep.join(seq)\n",
    "sep.join(seq1)\n",
    "\n",
    "dirs='','usr','bin','env'\n",
    "type(dirs)\n",
    "'/'.join(dirs)\n",
    "print('C:'+'\\\\'.join(dirs))"
   ]
  },
  {
   "cell_type": "code",
   "execution_count": 7,
   "metadata": {},
   "outputs": [
    {
     "name": "stdout",
     "output_type": "stream",
     "text": [
      "Found it!\n"
     ]
    },
    {
     "data": {
      "text/plain": [
       "'Theez eez a test'"
      ]
     },
     "execution_count": 7,
     "metadata": {},
     "output_type": "execute_result"
    }
   ],
   "source": [
    "if 'Gumby' in ['gumby','smith','jones']:\n",
    "    print('Found it!')\n",
    "if 'Gumby'.lower() in ['gumby','smith','jones']:\n",
    "    print('Found it!')\n",
    "    \n",
    "'This is a test'.replace('is','eez')\n"
   ]
  },
  {
   "cell_type": "code",
   "execution_count": 20,
   "metadata": {},
   "outputs": [
    {
     "name": "stdout",
     "output_type": "stream",
     "text": [
      "Found it!\n"
     ]
    },
    {
     "data": {
      "text/plain": [
       "'SPMU * for * everyone'"
      ]
     },
     "execution_count": 20,
     "metadata": {},
     "output_type": "execute_result"
    }
   ],
   "source": [
    "'1+2+3+$+5'.split('+')\n",
    "r'C:\\usr\\bin\\env'.split('\\\\')#r忽略字符串中的特殊字符\n",
    "r'\\n'\n",
    "'Using the default'.split()#默认空白分割，空格/制表符/换行符\n",
    "\n",
    "'           hhh           '.strip()#去空白，开头结尾\n",
    "if 'Gumby   '.strip().lower() in ['gumby','smith','jones']:\n",
    "    print('Found it!')\n",
    "\n",
    "'***%**** SPMU * for * everyone!!! ***/****'.strip(' *!/%')\n",
    "\n"
   ]
  },
  {
   "cell_type": "code",
   "execution_count": 24,
   "metadata": {},
   "outputs": [
    {
     "data": {
      "text/plain": [
       "'thizizaninkredibletezt'"
      ]
     },
     "execution_count": 24,
     "metadata": {},
     "output_type": "execute_result"
    }
   ],
   "source": [
    "#translate单字替换\n",
    "#转化表\n",
    "table=str.maketrans('cs','kz',' ')#替换长度需相同,参2替换参1，删除参3\n",
    "table\n",
    "\"this is an incredible test\".translate(table)"
   ]
  },
  {
   "cell_type": "code",
   "execution_count": null,
   "metadata": {},
   "outputs": [],
   "source": []
  }
 ],
 "metadata": {
  "kernelspec": {
   "display_name": "Python 3",
   "language": "python",
   "name": "python3"
  },
  "language_info": {
   "codemirror_mode": {
    "name": "ipython",
    "version": 3
   },
   "file_extension": ".py",
   "mimetype": "text/x-python",
   "name": "python",
   "nbconvert_exporter": "python",
   "pygments_lexer": "ipython3",
   "version": "3.7.0"
  }
 },
 "nbformat": 4,
 "nbformat_minor": 4
}
